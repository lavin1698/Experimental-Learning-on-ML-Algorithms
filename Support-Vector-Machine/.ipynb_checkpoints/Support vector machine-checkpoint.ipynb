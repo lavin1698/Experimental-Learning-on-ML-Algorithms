{
 "cells": [
  {
   "cell_type": "code",
   "execution_count": 1,
   "metadata": {},
   "outputs": [],
   "source": [
    "#SVM on Credit card fraud"
   ]
  },
  {
   "cell_type": "code",
   "execution_count": 2,
   "metadata": {},
   "outputs": [
    {
     "data": {
      "text/html": [
       "        <script type=\"text/javascript\">\n",
       "        window.PlotlyConfig = {MathJaxConfig: 'local'};\n",
       "        if (window.MathJax) {MathJax.Hub.Config({SVG: {font: \"STIX-Web\"}});}\n",
       "        if (typeof require !== 'undefined') {\n",
       "        require.undef(\"plotly\");\n",
       "        requirejs.config({\n",
       "            paths: {\n",
       "                'plotly': ['https://cdn.plot.ly/plotly-latest.min']\n",
       "            }\n",
       "        });\n",
       "        require(['plotly'], function(Plotly) {\n",
       "            window._Plotly = Plotly;\n",
       "        });\n",
       "        }\n",
       "        </script>\n",
       "        "
      ]
     },
     "metadata": {},
     "output_type": "display_data"
    }
   ],
   "source": [
    "import pandas as pd\n",
    "import numpy as np\n",
    "import matplotlib.pyplot as plt\n",
    "import seaborn as sns\n",
    "%matplotlib inline\n",
    "import plotly.graph_objs as go\n",
    "import plotly.figure_factory as ff\n",
    "from plotly import tools\n",
    "from plotly.offline import download_plotlyjs, init_notebook_mode, plot, iplot\n",
    "init_notebook_mode(connected=True)"
   ]
  },
  {
   "cell_type": "code",
   "execution_count": 3,
   "metadata": {},
   "outputs": [],
   "source": [
    "#importing csv files\n",
    "train=pd.read_csv(\"C:/Users/lavin/Downloads/ML record/creditcardfraud/creditcard.csv\")"
   ]
  },
  {
   "cell_type": "code",
   "execution_count": 4,
   "metadata": {
    "scrolled": true
   },
   "outputs": [
    {
     "data": {
      "text/html": [
       "<div>\n",
       "<style scoped>\n",
       "    .dataframe tbody tr th:only-of-type {\n",
       "        vertical-align: middle;\n",
       "    }\n",
       "\n",
       "    .dataframe tbody tr th {\n",
       "        vertical-align: top;\n",
       "    }\n",
       "\n",
       "    .dataframe thead th {\n",
       "        text-align: right;\n",
       "    }\n",
       "</style>\n",
       "<table border=\"1\" class=\"dataframe\">\n",
       "  <thead>\n",
       "    <tr style=\"text-align: right;\">\n",
       "      <th></th>\n",
       "      <th>Time</th>\n",
       "      <th>V1</th>\n",
       "      <th>V2</th>\n",
       "      <th>V3</th>\n",
       "      <th>V4</th>\n",
       "      <th>V5</th>\n",
       "      <th>V6</th>\n",
       "      <th>V7</th>\n",
       "      <th>V8</th>\n",
       "      <th>V9</th>\n",
       "      <th>...</th>\n",
       "      <th>V21</th>\n",
       "      <th>V22</th>\n",
       "      <th>V23</th>\n",
       "      <th>V24</th>\n",
       "      <th>V25</th>\n",
       "      <th>V26</th>\n",
       "      <th>V27</th>\n",
       "      <th>V28</th>\n",
       "      <th>Amount</th>\n",
       "      <th>Class</th>\n",
       "    </tr>\n",
       "  </thead>\n",
       "  <tbody>\n",
       "    <tr>\n",
       "      <td>0</td>\n",
       "      <td>0.0</td>\n",
       "      <td>-1.359807</td>\n",
       "      <td>-0.072781</td>\n",
       "      <td>2.536347</td>\n",
       "      <td>1.378155</td>\n",
       "      <td>-0.338321</td>\n",
       "      <td>0.462388</td>\n",
       "      <td>0.239599</td>\n",
       "      <td>0.098698</td>\n",
       "      <td>0.363787</td>\n",
       "      <td>...</td>\n",
       "      <td>-0.018307</td>\n",
       "      <td>0.277838</td>\n",
       "      <td>-0.110474</td>\n",
       "      <td>0.066928</td>\n",
       "      <td>0.128539</td>\n",
       "      <td>-0.189115</td>\n",
       "      <td>0.133558</td>\n",
       "      <td>-0.021053</td>\n",
       "      <td>149.62</td>\n",
       "      <td>0</td>\n",
       "    </tr>\n",
       "    <tr>\n",
       "      <td>1</td>\n",
       "      <td>0.0</td>\n",
       "      <td>1.191857</td>\n",
       "      <td>0.266151</td>\n",
       "      <td>0.166480</td>\n",
       "      <td>0.448154</td>\n",
       "      <td>0.060018</td>\n",
       "      <td>-0.082361</td>\n",
       "      <td>-0.078803</td>\n",
       "      <td>0.085102</td>\n",
       "      <td>-0.255425</td>\n",
       "      <td>...</td>\n",
       "      <td>-0.225775</td>\n",
       "      <td>-0.638672</td>\n",
       "      <td>0.101288</td>\n",
       "      <td>-0.339846</td>\n",
       "      <td>0.167170</td>\n",
       "      <td>0.125895</td>\n",
       "      <td>-0.008983</td>\n",
       "      <td>0.014724</td>\n",
       "      <td>2.69</td>\n",
       "      <td>0</td>\n",
       "    </tr>\n",
       "    <tr>\n",
       "      <td>2</td>\n",
       "      <td>1.0</td>\n",
       "      <td>-1.358354</td>\n",
       "      <td>-1.340163</td>\n",
       "      <td>1.773209</td>\n",
       "      <td>0.379780</td>\n",
       "      <td>-0.503198</td>\n",
       "      <td>1.800499</td>\n",
       "      <td>0.791461</td>\n",
       "      <td>0.247676</td>\n",
       "      <td>-1.514654</td>\n",
       "      <td>...</td>\n",
       "      <td>0.247998</td>\n",
       "      <td>0.771679</td>\n",
       "      <td>0.909412</td>\n",
       "      <td>-0.689281</td>\n",
       "      <td>-0.327642</td>\n",
       "      <td>-0.139097</td>\n",
       "      <td>-0.055353</td>\n",
       "      <td>-0.059752</td>\n",
       "      <td>378.66</td>\n",
       "      <td>0</td>\n",
       "    </tr>\n",
       "    <tr>\n",
       "      <td>3</td>\n",
       "      <td>1.0</td>\n",
       "      <td>-0.966272</td>\n",
       "      <td>-0.185226</td>\n",
       "      <td>1.792993</td>\n",
       "      <td>-0.863291</td>\n",
       "      <td>-0.010309</td>\n",
       "      <td>1.247203</td>\n",
       "      <td>0.237609</td>\n",
       "      <td>0.377436</td>\n",
       "      <td>-1.387024</td>\n",
       "      <td>...</td>\n",
       "      <td>-0.108300</td>\n",
       "      <td>0.005274</td>\n",
       "      <td>-0.190321</td>\n",
       "      <td>-1.175575</td>\n",
       "      <td>0.647376</td>\n",
       "      <td>-0.221929</td>\n",
       "      <td>0.062723</td>\n",
       "      <td>0.061458</td>\n",
       "      <td>123.50</td>\n",
       "      <td>0</td>\n",
       "    </tr>\n",
       "    <tr>\n",
       "      <td>4</td>\n",
       "      <td>2.0</td>\n",
       "      <td>-1.158233</td>\n",
       "      <td>0.877737</td>\n",
       "      <td>1.548718</td>\n",
       "      <td>0.403034</td>\n",
       "      <td>-0.407193</td>\n",
       "      <td>0.095921</td>\n",
       "      <td>0.592941</td>\n",
       "      <td>-0.270533</td>\n",
       "      <td>0.817739</td>\n",
       "      <td>...</td>\n",
       "      <td>-0.009431</td>\n",
       "      <td>0.798278</td>\n",
       "      <td>-0.137458</td>\n",
       "      <td>0.141267</td>\n",
       "      <td>-0.206010</td>\n",
       "      <td>0.502292</td>\n",
       "      <td>0.219422</td>\n",
       "      <td>0.215153</td>\n",
       "      <td>69.99</td>\n",
       "      <td>0</td>\n",
       "    </tr>\n",
       "    <tr>\n",
       "      <td>...</td>\n",
       "      <td>...</td>\n",
       "      <td>...</td>\n",
       "      <td>...</td>\n",
       "      <td>...</td>\n",
       "      <td>...</td>\n",
       "      <td>...</td>\n",
       "      <td>...</td>\n",
       "      <td>...</td>\n",
       "      <td>...</td>\n",
       "      <td>...</td>\n",
       "      <td>...</td>\n",
       "      <td>...</td>\n",
       "      <td>...</td>\n",
       "      <td>...</td>\n",
       "      <td>...</td>\n",
       "      <td>...</td>\n",
       "      <td>...</td>\n",
       "      <td>...</td>\n",
       "      <td>...</td>\n",
       "      <td>...</td>\n",
       "      <td>...</td>\n",
       "    </tr>\n",
       "    <tr>\n",
       "      <td>284802</td>\n",
       "      <td>172786.0</td>\n",
       "      <td>-11.881118</td>\n",
       "      <td>10.071785</td>\n",
       "      <td>-9.834783</td>\n",
       "      <td>-2.066656</td>\n",
       "      <td>-5.364473</td>\n",
       "      <td>-2.606837</td>\n",
       "      <td>-4.918215</td>\n",
       "      <td>7.305334</td>\n",
       "      <td>1.914428</td>\n",
       "      <td>...</td>\n",
       "      <td>0.213454</td>\n",
       "      <td>0.111864</td>\n",
       "      <td>1.014480</td>\n",
       "      <td>-0.509348</td>\n",
       "      <td>1.436807</td>\n",
       "      <td>0.250034</td>\n",
       "      <td>0.943651</td>\n",
       "      <td>0.823731</td>\n",
       "      <td>0.77</td>\n",
       "      <td>0</td>\n",
       "    </tr>\n",
       "    <tr>\n",
       "      <td>284803</td>\n",
       "      <td>172787.0</td>\n",
       "      <td>-0.732789</td>\n",
       "      <td>-0.055080</td>\n",
       "      <td>2.035030</td>\n",
       "      <td>-0.738589</td>\n",
       "      <td>0.868229</td>\n",
       "      <td>1.058415</td>\n",
       "      <td>0.024330</td>\n",
       "      <td>0.294869</td>\n",
       "      <td>0.584800</td>\n",
       "      <td>...</td>\n",
       "      <td>0.214205</td>\n",
       "      <td>0.924384</td>\n",
       "      <td>0.012463</td>\n",
       "      <td>-1.016226</td>\n",
       "      <td>-0.606624</td>\n",
       "      <td>-0.395255</td>\n",
       "      <td>0.068472</td>\n",
       "      <td>-0.053527</td>\n",
       "      <td>24.79</td>\n",
       "      <td>0</td>\n",
       "    </tr>\n",
       "    <tr>\n",
       "      <td>284804</td>\n",
       "      <td>172788.0</td>\n",
       "      <td>1.919565</td>\n",
       "      <td>-0.301254</td>\n",
       "      <td>-3.249640</td>\n",
       "      <td>-0.557828</td>\n",
       "      <td>2.630515</td>\n",
       "      <td>3.031260</td>\n",
       "      <td>-0.296827</td>\n",
       "      <td>0.708417</td>\n",
       "      <td>0.432454</td>\n",
       "      <td>...</td>\n",
       "      <td>0.232045</td>\n",
       "      <td>0.578229</td>\n",
       "      <td>-0.037501</td>\n",
       "      <td>0.640134</td>\n",
       "      <td>0.265745</td>\n",
       "      <td>-0.087371</td>\n",
       "      <td>0.004455</td>\n",
       "      <td>-0.026561</td>\n",
       "      <td>67.88</td>\n",
       "      <td>0</td>\n",
       "    </tr>\n",
       "    <tr>\n",
       "      <td>284805</td>\n",
       "      <td>172788.0</td>\n",
       "      <td>-0.240440</td>\n",
       "      <td>0.530483</td>\n",
       "      <td>0.702510</td>\n",
       "      <td>0.689799</td>\n",
       "      <td>-0.377961</td>\n",
       "      <td>0.623708</td>\n",
       "      <td>-0.686180</td>\n",
       "      <td>0.679145</td>\n",
       "      <td>0.392087</td>\n",
       "      <td>...</td>\n",
       "      <td>0.265245</td>\n",
       "      <td>0.800049</td>\n",
       "      <td>-0.163298</td>\n",
       "      <td>0.123205</td>\n",
       "      <td>-0.569159</td>\n",
       "      <td>0.546668</td>\n",
       "      <td>0.108821</td>\n",
       "      <td>0.104533</td>\n",
       "      <td>10.00</td>\n",
       "      <td>0</td>\n",
       "    </tr>\n",
       "    <tr>\n",
       "      <td>284806</td>\n",
       "      <td>172792.0</td>\n",
       "      <td>-0.533413</td>\n",
       "      <td>-0.189733</td>\n",
       "      <td>0.703337</td>\n",
       "      <td>-0.506271</td>\n",
       "      <td>-0.012546</td>\n",
       "      <td>-0.649617</td>\n",
       "      <td>1.577006</td>\n",
       "      <td>-0.414650</td>\n",
       "      <td>0.486180</td>\n",
       "      <td>...</td>\n",
       "      <td>0.261057</td>\n",
       "      <td>0.643078</td>\n",
       "      <td>0.376777</td>\n",
       "      <td>0.008797</td>\n",
       "      <td>-0.473649</td>\n",
       "      <td>-0.818267</td>\n",
       "      <td>-0.002415</td>\n",
       "      <td>0.013649</td>\n",
       "      <td>217.00</td>\n",
       "      <td>0</td>\n",
       "    </tr>\n",
       "  </tbody>\n",
       "</table>\n",
       "<p>284807 rows × 31 columns</p>\n",
       "</div>"
      ],
      "text/plain": [
       "            Time         V1         V2        V3        V4        V5  \\\n",
       "0            0.0  -1.359807  -0.072781  2.536347  1.378155 -0.338321   \n",
       "1            0.0   1.191857   0.266151  0.166480  0.448154  0.060018   \n",
       "2            1.0  -1.358354  -1.340163  1.773209  0.379780 -0.503198   \n",
       "3            1.0  -0.966272  -0.185226  1.792993 -0.863291 -0.010309   \n",
       "4            2.0  -1.158233   0.877737  1.548718  0.403034 -0.407193   \n",
       "...          ...        ...        ...       ...       ...       ...   \n",
       "284802  172786.0 -11.881118  10.071785 -9.834783 -2.066656 -5.364473   \n",
       "284803  172787.0  -0.732789  -0.055080  2.035030 -0.738589  0.868229   \n",
       "284804  172788.0   1.919565  -0.301254 -3.249640 -0.557828  2.630515   \n",
       "284805  172788.0  -0.240440   0.530483  0.702510  0.689799 -0.377961   \n",
       "284806  172792.0  -0.533413  -0.189733  0.703337 -0.506271 -0.012546   \n",
       "\n",
       "              V6        V7        V8        V9  ...       V21       V22  \\\n",
       "0       0.462388  0.239599  0.098698  0.363787  ... -0.018307  0.277838   \n",
       "1      -0.082361 -0.078803  0.085102 -0.255425  ... -0.225775 -0.638672   \n",
       "2       1.800499  0.791461  0.247676 -1.514654  ...  0.247998  0.771679   \n",
       "3       1.247203  0.237609  0.377436 -1.387024  ... -0.108300  0.005274   \n",
       "4       0.095921  0.592941 -0.270533  0.817739  ... -0.009431  0.798278   \n",
       "...          ...       ...       ...       ...  ...       ...       ...   \n",
       "284802 -2.606837 -4.918215  7.305334  1.914428  ...  0.213454  0.111864   \n",
       "284803  1.058415  0.024330  0.294869  0.584800  ...  0.214205  0.924384   \n",
       "284804  3.031260 -0.296827  0.708417  0.432454  ...  0.232045  0.578229   \n",
       "284805  0.623708 -0.686180  0.679145  0.392087  ...  0.265245  0.800049   \n",
       "284806 -0.649617  1.577006 -0.414650  0.486180  ...  0.261057  0.643078   \n",
       "\n",
       "             V23       V24       V25       V26       V27       V28  Amount  \\\n",
       "0      -0.110474  0.066928  0.128539 -0.189115  0.133558 -0.021053  149.62   \n",
       "1       0.101288 -0.339846  0.167170  0.125895 -0.008983  0.014724    2.69   \n",
       "2       0.909412 -0.689281 -0.327642 -0.139097 -0.055353 -0.059752  378.66   \n",
       "3      -0.190321 -1.175575  0.647376 -0.221929  0.062723  0.061458  123.50   \n",
       "4      -0.137458  0.141267 -0.206010  0.502292  0.219422  0.215153   69.99   \n",
       "...          ...       ...       ...       ...       ...       ...     ...   \n",
       "284802  1.014480 -0.509348  1.436807  0.250034  0.943651  0.823731    0.77   \n",
       "284803  0.012463 -1.016226 -0.606624 -0.395255  0.068472 -0.053527   24.79   \n",
       "284804 -0.037501  0.640134  0.265745 -0.087371  0.004455 -0.026561   67.88   \n",
       "284805 -0.163298  0.123205 -0.569159  0.546668  0.108821  0.104533   10.00   \n",
       "284806  0.376777  0.008797 -0.473649 -0.818267 -0.002415  0.013649  217.00   \n",
       "\n",
       "        Class  \n",
       "0           0  \n",
       "1           0  \n",
       "2           0  \n",
       "3           0  \n",
       "4           0  \n",
       "...       ...  \n",
       "284802      0  \n",
       "284803      0  \n",
       "284804      0  \n",
       "284805      0  \n",
       "284806      0  \n",
       "\n",
       "[284807 rows x 31 columns]"
      ]
     },
     "execution_count": 4,
     "metadata": {},
     "output_type": "execute_result"
    }
   ],
   "source": [
    "train"
   ]
  },
  {
   "cell_type": "code",
   "execution_count": 5,
   "metadata": {
    "collapsed": true
   },
   "outputs": [
    {
     "name": "stdout",
     "output_type": "stream",
     "text": [
      "<class 'pandas.core.frame.DataFrame'>\n",
      "RangeIndex: 284807 entries, 0 to 284806\n",
      "Data columns (total 31 columns):\n",
      "Time      284807 non-null float64\n",
      "V1        284807 non-null float64\n",
      "V2        284807 non-null float64\n",
      "V3        284807 non-null float64\n",
      "V4        284807 non-null float64\n",
      "V5        284807 non-null float64\n",
      "V6        284807 non-null float64\n",
      "V7        284807 non-null float64\n",
      "V8        284807 non-null float64\n",
      "V9        284807 non-null float64\n",
      "V10       284807 non-null float64\n",
      "V11       284807 non-null float64\n",
      "V12       284807 non-null float64\n",
      "V13       284807 non-null float64\n",
      "V14       284807 non-null float64\n",
      "V15       284807 non-null float64\n",
      "V16       284807 non-null float64\n",
      "V17       284807 non-null float64\n",
      "V18       284807 non-null float64\n",
      "V19       284807 non-null float64\n",
      "V20       284807 non-null float64\n",
      "V21       284807 non-null float64\n",
      "V22       284807 non-null float64\n",
      "V23       284807 non-null float64\n",
      "V24       284807 non-null float64\n",
      "V25       284807 non-null float64\n",
      "V26       284807 non-null float64\n",
      "V27       284807 non-null float64\n",
      "V28       284807 non-null float64\n",
      "Amount    284807 non-null float64\n",
      "Class     284807 non-null int64\n",
      "dtypes: float64(30), int64(1)\n",
      "memory usage: 67.4 MB\n"
     ]
    }
   ],
   "source": [
    "train.info()"
   ]
  },
  {
   "cell_type": "code",
   "execution_count": 6,
   "metadata": {},
   "outputs": [
    {
     "data": {
      "text/plain": [
       "(284807, 31)"
      ]
     },
     "execution_count": 6,
     "metadata": {},
     "output_type": "execute_result"
    }
   ],
   "source": [
    "train.shape"
   ]
  },
  {
   "cell_type": "code",
   "execution_count": 7,
   "metadata": {
    "collapsed": true
   },
   "outputs": [
    {
     "name": "stdout",
     "output_type": "stream",
     "text": [
      "<class 'pandas.core.frame.DataFrame'>\n",
      "RangeIndex: 284807 entries, 0 to 284806\n",
      "Data columns (total 31 columns):\n",
      "Time      284807 non-null float64\n",
      "V1        284807 non-null float64\n",
      "V2        284807 non-null float64\n",
      "V3        284807 non-null float64\n",
      "V4        284807 non-null float64\n",
      "V5        284807 non-null float64\n",
      "V6        284807 non-null float64\n",
      "V7        284807 non-null float64\n",
      "V8        284807 non-null float64\n",
      "V9        284807 non-null float64\n",
      "V10       284807 non-null float64\n",
      "V11       284807 non-null float64\n",
      "V12       284807 non-null float64\n",
      "V13       284807 non-null float64\n",
      "V14       284807 non-null float64\n",
      "V15       284807 non-null float64\n",
      "V16       284807 non-null float64\n",
      "V17       284807 non-null float64\n",
      "V18       284807 non-null float64\n",
      "V19       284807 non-null float64\n",
      "V20       284807 non-null float64\n",
      "V21       284807 non-null float64\n",
      "V22       284807 non-null float64\n",
      "V23       284807 non-null float64\n",
      "V24       284807 non-null float64\n",
      "V25       284807 non-null float64\n",
      "V26       284807 non-null float64\n",
      "V27       284807 non-null float64\n",
      "V28       284807 non-null float64\n",
      "Amount    284807 non-null float64\n",
      "Class     284807 non-null int64\n",
      "dtypes: float64(30), int64(1)\n",
      "memory usage: 67.4 MB\n"
     ]
    }
   ],
   "source": [
    "train.info()"
   ]
  },
  {
   "cell_type": "code",
   "execution_count": 8,
   "metadata": {},
   "outputs": [
    {
     "data": {
      "text/plain": [
       "<matplotlib.axes._subplots.AxesSubplot at 0x294b5339348>"
      ]
     },
     "execution_count": 8,
     "metadata": {},
     "output_type": "execute_result"
    },
    {
     "data": {
      "image/png": "[encoded data removed]",
      "text/plain": [
       "<Figure size 432x288 with 1 Axes>"
      ]
     },
     "metadata": {
      "needs_background": "light"
     },
     "output_type": "display_data"
    }
   ],
   "source": [
    "sns.distplot(train['Time'])"
   ]
  },
  {
   "cell_type": "code",
   "execution_count": 9,
   "metadata": {},
   "outputs": [
    {
     "data": {
      "text/plain": [
       "<matplotlib.axes._subplots.AxesSubplot at 0x294b5339208>"
      ]
     },
     "execution_count": 9,
     "metadata": {},
     "output_type": "execute_result"
    },
    {
     "data": {
      "image/png": "[encoded data removed]",
      "text/plain": [
       "<Figure size 432x288 with 1 Axes>"
      ]
     },
     "metadata": {
      "needs_background": "light"
     },
     "output_type": "display_data"
    }
   ],
   "source": [
    "sns.distplot(train['V1'])"
   ]
  },
  {
   "cell_type": "code",
   "execution_count": 25,
   "metadata": {},
   "outputs": [
    {
     "data": {
      "application/vnd.plotly.v1+json": {
       "config": {
        "linkText": "Export to plot.ly",
        "plotlyServerURL": "https://plot.ly",
        "showLink": false
       },
       "data": [
        {
         "marker": {
          "color": "Blue"
         },
         "name": "Credit Card Fraud Class - data unbalance (Not fraud = 0, Fraud = 1)",
         "text": [
          284315,
          492
         ],
         "type": "bar",
         "x": [
          0,
          1
         ],
         "y": [
          284315,
          492
         ]
        }
       ],
       "layout": {
        "hovermode": "closest",
        "template": {
         "data": {
          "bar": [
           {
            "error_x": {
             "color": "#2a3f5f"
            },
            "error_y": {
             "color": "#2a3f5f"
            },
            "marker": {
             "line": {
              "color": "#E5ECF6",
              "width": 0.5
             }
            },
            "type": "bar"
           }
          ],
          "barpolar": [
           {
            "marker": {
             "line": {
              "color": "#E5ECF6",
              "width": 0.5
             }
            },
            "type": "barpolar"
           }
          ],
          "carpet": [
           {
            "aaxis": {
             "endlinecolor": "#2a3f5f",
             "gridcolor": "white",
             "linecolor": "white",
             "minorgridcolor": "white",
             "startlinecolor": "#2a3f5f"
            },
            "baxis": {
             "endlinecolor": "#2a3f5f",
             "gridcolor": "white",
             "linecolor": "white",
             "minorgridcolor": "white",
             "startlinecolor": "#2a3f5f"
            },
            "type": "carpet"
           }
          ],
          "choropleth": [
           {
            "colorbar": {
             "outlinewidth": 0,
             "ticks": ""
            },
            "type": "choropleth"
           }
          ],
          "contour": [
           {
            "colorbar": {
             "outlinewidth": 0,
             "ticks": ""
            },
            "colorscale": [
             [
              0,
              "#0d0887"
             ],
             [
              0.1111111111111111,
              "#46039f"
             ],
             [
              0.2222222222222222,
              "#7201a8"
             ],
             [
              0.3333333333333333,
              "#9c179e"
             ],
             [
              0.4444444444444444,
              "#bd3786"
             ],
             [
              0.5555555555555556,
              "#d8576b"
             ],
             [
              0.6666666666666666,
              "#ed7953"
             ],
             [
              0.7777777777777778,
              "#fb9f3a"
             ],
             [
              0.8888888888888888,
              "#fdca26"
             ],
             [
              1,
              "#f0f921"
             ]
            ],
            "type": "contour"
           }
          ],
          "contourcarpet": [
           {
            "colorbar": {
             "outlinewidth": 0,
             "ticks": ""
            },
            "type": "contourcarpet"
           }
          ],
          "heatmap": [
           {
            "colorbar": {
             "outlinewidth": 0,
             "ticks": ""
            },
            "colorscale": [
             [
              0,
              "#0d0887"
             ],
             [
              0.1111111111111111,
              "#46039f"
             ],
             [
              0.2222222222222222,
              "#7201a8"
             ],
             [
              0.3333333333333333,
              "#9c179e"
             ],
             [
              0.4444444444444444,
              "#bd3786"
             ],
             [
              0.5555555555555556,
              "#d8576b"
             ],
             [
              0.6666666666666666,
              "#ed7953"
             ],
             [
              0.7777777777777778,
              "#fb9f3a"
             ],
             [
              0.8888888888888888,
              "#fdca26"
             ],
             [
              1,
              "#f0f921"
             ]
            ],
            "type": "heatmap"
           }
          ],
          "heatmapgl": [
           {
            "colorbar": {
             "outlinewidth": 0,
             "ticks": ""
            },
            "colorscale": [
             [
              0,
              "#0d0887"
             ],
             [
              0.1111111111111111,
              "#46039f"
             ],
             [
              0.2222222222222222,
              "#7201a8"
             ],
             [
              0.3333333333333333,
              "#9c179e"
             ],
             [
              0.4444444444444444,
              "#bd3786"
             ],
             [
              0.5555555555555556,
              "#d8576b"
             ],
             [
              0.6666666666666666,
              "#ed7953"
             ],
             [
              0.7777777777777778,
              "#fb9f3a"
             ],
             [
              0.8888888888888888,
              "#fdca26"
             ],
             [
              1,
              "#f0f921"
             ]
            ],
            "type": "heatmapgl"
           }
          ],
          "histogram": [
           {
            "marker": {
             "colorbar": {
              "outlinewidth": 0,
              "ticks": ""
             }
            },
            "type": "histogram"
           }
          ],
          "histogram2d": [
           {
            "colorbar": {
             "outlinewidth": 0,
             "ticks": ""
            },
            "colorscale": [
             [
              0,
              "#0d0887"
             ],
             [
              0.1111111111111111,
              "#46039f"
             ],
             [
              0.2222222222222222,
              "#7201a8"
             ],
             [
              0.3333333333333333,
              "#9c179e"
             ],
             [
              0.4444444444444444,
              "#bd3786"
             ],
             [
              0.5555555555555556,
              "#d8576b"
             ],
             [
              0.6666666666666666,
              "#ed7953"
             ],
             [
              0.7777777777777778,
              "#fb9f3a"
             ],
             [
              0.8888888888888888,
              "#fdca26"
             ],
             [
              1,
              "#f0f921"
             ]
            ],
            "type": "histogram2d"
           }
          ],
          "histogram2dcontour": [
           {
            "colorbar": {
             "outlinewidth": 0,
             "ticks": ""
            },
            "colorscale": [
             [
              0,
              "#0d0887"
             ],
             [
              0.1111111111111111,
              "#46039f"
             ],
             [
              0.2222222222222222,
              "#7201a8"
             ],
             [
              0.3333333333333333,
              "#9c179e"
             ],
             [
              0.4444444444444444,
              "#bd3786"
             ],
             [
              0.5555555555555556,
              "#d8576b"
             ],
             [
              0.6666666666666666,
              "#ed7953"
             ],
             [
              0.7777777777777778,
              "#fb9f3a"
             ],
             [
              0.8888888888888888,
              "#fdca26"
             ],
             [
              1,
              "#f0f921"
             ]
            ],
            "type": "histogram2dcontour"
           }
          ],
          "mesh3d": [
           {
            "colorbar": {
             "outlinewidth": 0,
             "ticks": ""
            },
            "type": "mesh3d"
           }
          ],
          "parcoords": [
           {
            "line": {
             "colorbar": {
              "outlinewidth": 0,
              "ticks": ""
             }
            },
            "type": "parcoords"
           }
          ],
          "pie": [
           {
            "automargin": true,
            "type": "pie"
           }
          ],
          "scatter": [
           {
            "marker": {
             "colorbar": {
              "outlinewidth": 0,
              "ticks": ""
             }
            },
            "type": "scatter"
           }
          ],
          "scatter3d": [
           {
            "line": {
             "colorbar": {
              "outlinewidth": 0,
              "ticks": ""
             }
            },
            "marker": {
             "colorbar": {
              "outlinewidth": 0,
              "ticks": ""
             }
            },
            "type": "scatter3d"
           }
          ],
          "scattercarpet": [
           {
            "marker": {
             "colorbar": {
              "outlinewidth": 0,
              "ticks": ""
             }
            },
            "type": "scattercarpet"
           }
          ],
          "scattergeo": [
           {
            "marker": {
             "colorbar": {
              "outlinewidth": 0,
              "ticks": ""
             }
            },
            "type": "scattergeo"
           }
          ],
          "scattergl": [
           {
            "marker": {
             "colorbar": {
              "outlinewidth": 0,
              "ticks": ""
             }
            },
            "type": "scattergl"
           }
          ],
          "scattermapbox": [
           {
            "marker": {
             "colorbar": {
              "outlinewidth": 0,
              "ticks": ""
             }
            },
            "type": "scattermapbox"
           }
          ],
          "scatterpolar": [
           {
            "marker": {
             "colorbar": {
              "outlinewidth": 0,
              "ticks": ""
             }
            },
            "type": "scatterpolar"
           }
          ],
          "scatterpolargl": [
           {
            "marker": {
             "colorbar": {
              "outlinewidth": 0,
              "ticks": ""
             }
            },
            "type": "scatterpolargl"
           }
          ],
          "scatterternary": [
           {
            "marker": {
             "colorbar": {
              "outlinewidth": 0,
              "ticks": ""
             }
            },
            "type": "scatterternary"
           }
          ],
          "surface": [
           {
            "colorbar": {
             "outlinewidth": 0,
             "ticks": ""
            },
            "colorscale": [
             [
              0,
              "#0d0887"
             ],
             [
              0.1111111111111111,
              "#46039f"
             ],
             [
              0.2222222222222222,
              "#7201a8"
             ],
             [
              0.3333333333333333,
              "#9c179e"
             ],
             [
              0.4444444444444444,
              "#bd3786"
             ],
             [
              0.5555555555555556,
              "#d8576b"
             ],
             [
              0.6666666666666666,
              "#ed7953"
             ],
             [
              0.7777777777777778,
              "#fb9f3a"
             ],
             [
              0.8888888888888888,
              "#fdca26"
             ],
             [
              1,
              "#f0f921"
             ]
            ],
            "type": "surface"
           }
          ],
          "table": [
           {
            "cells": {
             "fill": {
              "color": "#EBF0F8"
             },
             "line": {
              "color": "white"
             }
            },
            "header": {
             "fill": {
              "color": "#C8D4E3"
             },
             "line": {
              "color": "white"
             }
            },
            "type": "table"
           }
          ]
         },
         "layout": {
          "annotationdefaults": {
           "arrowcolor": "#2a3f5f",
           "arrowhead": 0,
           "arrowwidth": 1
          },
          "coloraxis": {
           "colorbar": {
            "outlinewidth": 0,
            "ticks": ""
           }
          },
          "colorscale": {
           "diverging": [
            [
             0,
             "#8e0152"
            ],
            [
             0.1,
             "#c51b7d"
            ],
            [
             0.2,
             "#de77ae"
            ],
            [
             0.3,
             "#f1b6da"
            ],
            [
             0.4,
             "#fde0ef"
            ],
            [
             0.5,
             "#f7f7f7"
            ],
            [
             0.6,
             "#e6f5d0"
            ],
            [
             0.7,
             "#b8e186"
            ],
            [
             0.8,
             "#7fbc41"
            ],
            [
             0.9,
             "#4d9221"
            ],
            [
             1,
             "#276419"
            ]
           ],
           "sequential": [
            [
             0,
             "#0d0887"
            ],
            [
             0.1111111111111111,
             "#46039f"
            ],
            [
             0.2222222222222222,
             "#7201a8"
            ],
            [
             0.3333333333333333,
             "#9c179e"
            ],
            [
             0.4444444444444444,
             "#bd3786"
            ],
            [
             0.5555555555555556,
             "#d8576b"
            ],
            [
             0.6666666666666666,
             "#ed7953"
            ],
            [
             0.7777777777777778,
             "#fb9f3a"
            ],
            [
             0.8888888888888888,
             "#fdca26"
            ],
            [
             1,
             "#f0f921"
            ]
           ],
           "sequentialminus": [
            [
             0,
             "#0d0887"
            ],
            [
             0.1111111111111111,
             "#46039f"
            ],
            [
             0.2222222222222222,
             "#7201a8"
            ],
            [
             0.3333333333333333,
             "#9c179e"
            ],
            [
             0.4444444444444444,
             "#bd3786"
            ],
            [
             0.5555555555555556,
             "#d8576b"
            ],
            [
             0.6666666666666666,
             "#ed7953"
            ],
            [
             0.7777777777777778,
             "#fb9f3a"
            ],
            [
             0.8888888888888888,
             "#fdca26"
            ],
            [
             1,
             "#f0f921"
            ]
           ]
          },
          "colorway": [
           "#636efa",
           "#EF553B",
           "#00cc96",
           "#ab63fa",
           "#FFA15A",
           "#19d3f3",
           "#FF6692",
           "#B6E880",
           "#FF97FF",
           "#FECB52"
          ],
          "font": {
           "color": "#2a3f5f"
          },
          "geo": {
           "bgcolor": "white",
           "lakecolor": "white",
           "landcolor": "#E5ECF6",
           "showlakes": true,
           "showland": true,
           "subunitcolor": "white"
          },
          "hoverlabel": {
           "align": "left"
          },
          "hovermode": "closest",
          "mapbox": {
           "style": "light"
          },
          "paper_bgcolor": "white",
          "plot_bgcolor": "#E5ECF6",
          "polar": {
           "angularaxis": {
            "gridcolor": "white",
            "linecolor": "white",
            "ticks": ""
           },
           "bgcolor": "#E5ECF6",
           "radialaxis": {
            "gridcolor": "white",
            "linecolor": "white",
            "ticks": ""
           }
          },
          "scene": {
           "xaxis": {
            "backgroundcolor": "#E5ECF6",
            "gridcolor": "white",
            "gridwidth": 2,
            "linecolor": "white",
            "showbackground": true,
            "ticks": "",
            "zerolinecolor": "white"
           },
           "yaxis": {
            "backgroundcolor": "#E5ECF6",
            "gridcolor": "white",
            "gridwidth": 2,
            "linecolor": "white",
            "showbackground": true,
            "ticks": "",
            "zerolinecolor": "white"
           },
           "zaxis": {
            "backgroundcolor": "#E5ECF6",
            "gridcolor": "white",
            "gridwidth": 2,
            "linecolor": "white",
            "showbackground": true,
            "ticks": "",
            "zerolinecolor": "white"
           }
          },
          "shapedefaults": {
           "line": {
            "color": "#2a3f5f"
           }
          },
          "ternary": {
           "aaxis": {
            "gridcolor": "white",
            "linecolor": "white",
            "ticks": ""
           },
           "baxis": {
            "gridcolor": "white",
            "linecolor": "white",
            "ticks": ""
           },
           "bgcolor": "#E5ECF6",
           "caxis": {
            "gridcolor": "white",
            "linecolor": "white",
            "ticks": ""
           }
          },
          "title": {
           "x": 0.05
          },
          "xaxis": {
           "automargin": true,
           "gridcolor": "white",
           "linecolor": "white",
           "ticks": "",
           "title": {
            "standoff": 15
           },
           "zerolinecolor": "white",
           "zerolinewidth": 2
          },
          "yaxis": {
           "automargin": true,
           "gridcolor": "white",
           "linecolor": "white",
           "ticks": "",
           "title": {
            "standoff": 15
           },
           "zerolinecolor": "white",
           "zerolinewidth": 2
          }
         }
        },
        "title": {
         "text": "Credit Card Fraud Class - data unbalance (Not fraud = 0, Fraud = 1)"
        },
        "width": 650,
        "xaxis": {
         "showticklabels": true,
         "title": {
          "text": "Class"
         }
        },
        "yaxis": {
         "title": {
          "text": "Number of transactions"
         }
        }
       }
      },
      "text/html": [
       "<div>\n",
       "        \n",
       "        \n",
       "            <div id=\"2bddb11e-2eb2-4a87-8906-53eb146a1cc2\" class=\"plotly-graph-div\" style=\"height:525px; width:650px;\"></div>\n",
       "            <script type=\"text/javascript\">\n",
       "                require([\"plotly\"], function(Plotly) {\n",
       "                    window.PLOTLYENV=window.PLOTLYENV || {};\n",
       "                    \n",
       "                if (document.getElementById(\"2bddb11e-2eb2-4a87-8906-53eb146a1cc2\")) {\n",
       "                    Plotly.newPlot(\n",
       "                        '2bddb11e-2eb2-4a87-8906-53eb146a1cc2',\n",
       "                        [{\"marker\": {\"color\": \"Blue\"}, \"name\": \"Credit Card Fraud Class - data unbalance (Not fraud = 0, Fraud = 1)\", \"text\": [284315.0, 492.0], \"type\": \"bar\", \"x\": [0, 1], \"y\": [284315, 492]}],\n",
       "                        {\"hovermode\": \"closest\", \"template\": {\"data\": {\"bar\": [{\"error_x\": {\"color\": \"#2a3f5f\"}, \"error_y\": {\"color\": \"#2a3f5f\"}, \"marker\": {\"line\": {\"color\": \"#E5ECF6\", \"width\": 0.5}}, \"type\": \"bar\"}], \"barpolar\": [{\"marker\": {\"line\": {\"color\": \"#E5ECF6\", \"width\": 0.5}}, \"type\": \"barpolar\"}], \"carpet\": [{\"aaxis\": {\"endlinecolor\": \"#2a3f5f\", \"gridcolor\": \"white\", \"linecolor\": \"white\", \"minorgridcolor\": \"white\", \"startlinecolor\": \"#2a3f5f\"}, \"baxis\": {\"endlinecolor\": \"#2a3f5f\", \"gridcolor\": \"white\", \"linecolor\": \"white\", \"minorgridcolor\": \"white\", \"startlinecolor\": \"#2a3f5f\"}, \"type\": \"carpet\"}], \"choropleth\": [{\"colorbar\": {\"outlinewidth\": 0, \"ticks\": \"\"}, \"type\": \"choropleth\"}], \"contour\": [{\"colorbar\": {\"outlinewidth\": 0, \"ticks\": \"\"}, \"colorscale\": [[0.0, \"#0d0887\"], [0.1111111111111111, \"#46039f\"], [0.2222222222222222, \"#7201a8\"], [0.3333333333333333, \"#9c179e\"], [0.4444444444444444, \"#bd3786\"], [0.5555555555555556, \"#d8576b\"], [0.6666666666666666, \"#ed7953\"], [0.7777777777777778, \"#fb9f3a\"], [0.8888888888888888, \"#fdca26\"], [1.0, \"#f0f921\"]], \"type\": \"contour\"}], \"contourcarpet\": [{\"colorbar\": {\"outlinewidth\": 0, \"ticks\": \"\"}, \"type\": \"contourcarpet\"}], \"heatmap\": [{\"colorbar\": {\"outlinewidth\": 0, \"ticks\": \"\"}, \"colorscale\": [[0.0, \"#0d0887\"], [0.1111111111111111, \"#46039f\"], [0.2222222222222222, \"#7201a8\"], [0.3333333333333333, \"#9c179e\"], [0.4444444444444444, \"#bd3786\"], [0.5555555555555556, \"#d8576b\"], [0.6666666666666666, \"#ed7953\"], [0.7777777777777778, \"#fb9f3a\"], [0.8888888888888888, \"#fdca26\"], [1.0, \"#f0f921\"]], \"type\": \"heatmap\"}], \"heatmapgl\": [{\"colorbar\": {\"outlinewidth\": 0, \"ticks\": \"\"}, \"colorscale\": [[0.0, \"#0d0887\"], [0.1111111111111111, \"#46039f\"], [0.2222222222222222, \"#7201a8\"], [0.3333333333333333, \"#9c179e\"], [0.4444444444444444, \"#bd3786\"], [0.5555555555555556, \"#d8576b\"], [0.6666666666666666, \"#ed7953\"], [0.7777777777777778, \"#fb9f3a\"], [0.8888888888888888, \"#fdca26\"], [1.0, \"#f0f921\"]], \"type\": \"heatmapgl\"}], \"histogram\": [{\"marker\": {\"colorbar\": {\"outlinewidth\": 0, \"ticks\": \"\"}}, \"type\": \"histogram\"}], \"histogram2d\": [{\"colorbar\": {\"outlinewidth\": 0, \"ticks\": \"\"}, \"colorscale\": [[0.0, \"#0d0887\"], [0.1111111111111111, \"#46039f\"], [0.2222222222222222, \"#7201a8\"], [0.3333333333333333, \"#9c179e\"], [0.4444444444444444, \"#bd3786\"], [0.5555555555555556, \"#d8576b\"], [0.6666666666666666, \"#ed7953\"], [0.7777777777777778, \"#fb9f3a\"], [0.8888888888888888, \"#fdca26\"], [1.0, \"#f0f921\"]], \"type\": \"histogram2d\"}], \"histogram2dcontour\": [{\"colorbar\": {\"outlinewidth\": 0, \"ticks\": \"\"}, \"colorscale\": [[0.0, \"#0d0887\"], [0.1111111111111111, \"#46039f\"], [0.2222222222222222, \"#7201a8\"], [0.3333333333333333, \"#9c179e\"], [0.4444444444444444, \"#bd3786\"], [0.5555555555555556, \"#d8576b\"], [0.6666666666666666, \"#ed7953\"], [0.7777777777777778, \"#fb9f3a\"], [0.8888888888888888, \"#fdca26\"], [1.0, \"#f0f921\"]], \"type\": \"histogram2dcontour\"}], \"mesh3d\": [{\"colorbar\": {\"outlinewidth\": 0, \"ticks\": \"\"}, \"type\": \"mesh3d\"}], \"parcoords\": [{\"line\": {\"colorbar\": {\"outlinewidth\": 0, \"ticks\": \"\"}}, \"type\": \"parcoords\"}], \"pie\": [{\"automargin\": true, \"type\": \"pie\"}], \"scatter\": [{\"marker\": {\"colorbar\": {\"outlinewidth\": 0, \"ticks\": \"\"}}, \"type\": \"scatter\"}], \"scatter3d\": [{\"line\": {\"colorbar\": {\"outlinewidth\": 0, \"ticks\": \"\"}}, \"marker\": {\"colorbar\": {\"outlinewidth\": 0, \"ticks\": \"\"}}, \"type\": \"scatter3d\"}], \"scattercarpet\": [{\"marker\": {\"colorbar\": {\"outlinewidth\": 0, \"ticks\": \"\"}}, \"type\": \"scattercarpet\"}], \"scattergeo\": [{\"marker\": {\"colorbar\": {\"outlinewidth\": 0, \"ticks\": \"\"}}, \"type\": \"scattergeo\"}], \"scattergl\": [{\"marker\": {\"colorbar\": {\"outlinewidth\": 0, \"ticks\": \"\"}}, \"type\": \"scattergl\"}], \"scattermapbox\": [{\"marker\": {\"colorbar\": {\"outlinewidth\": 0, \"ticks\": \"\"}}, \"type\": \"scattermapbox\"}], \"scatterpolar\": [{\"marker\": {\"colorbar\": {\"outlinewidth\": 0, \"ticks\": \"\"}}, \"type\": \"scatterpolar\"}], \"scatterpolargl\": [{\"marker\": {\"colorbar\": {\"outlinewidth\": 0, \"ticks\": \"\"}}, \"type\": \"scatterpolargl\"}], \"scatterternary\": [{\"marker\": {\"colorbar\": {\"outlinewidth\": 0, \"ticks\": \"\"}}, \"type\": \"scatterternary\"}], \"surface\": [{\"colorbar\": {\"outlinewidth\": 0, \"ticks\": \"\"}, \"colorscale\": [[0.0, \"#0d0887\"], [0.1111111111111111, \"#46039f\"], [0.2222222222222222, \"#7201a8\"], [0.3333333333333333, \"#9c179e\"], [0.4444444444444444, \"#bd3786\"], [0.5555555555555556, \"#d8576b\"], [0.6666666666666666, \"#ed7953\"], [0.7777777777777778, \"#fb9f3a\"], [0.8888888888888888, \"#fdca26\"], [1.0, \"#f0f921\"]], \"type\": \"surface\"}], \"table\": [{\"cells\": {\"fill\": {\"color\": \"#EBF0F8\"}, \"line\": {\"color\": \"white\"}}, \"header\": {\"fill\": {\"color\": \"#C8D4E3\"}, \"line\": {\"color\": \"white\"}}, \"type\": \"table\"}]}, \"layout\": {\"annotationdefaults\": {\"arrowcolor\": \"#2a3f5f\", \"arrowhead\": 0, \"arrowwidth\": 1}, \"coloraxis\": {\"colorbar\": {\"outlinewidth\": 0, \"ticks\": \"\"}}, \"colorscale\": {\"diverging\": [[0, \"#8e0152\"], [0.1, \"#c51b7d\"], [0.2, \"#de77ae\"], [0.3, \"#f1b6da\"], [0.4, \"#fde0ef\"], [0.5, \"#f7f7f7\"], [0.6, \"#e6f5d0\"], [0.7, \"#b8e186\"], [0.8, \"#7fbc41\"], [0.9, \"#4d9221\"], [1, \"#276419\"]], \"sequential\": [[0.0, \"#0d0887\"], [0.1111111111111111, \"#46039f\"], [0.2222222222222222, \"#7201a8\"], [0.3333333333333333, \"#9c179e\"], [0.4444444444444444, \"#bd3786\"], [0.5555555555555556, \"#d8576b\"], [0.6666666666666666, \"#ed7953\"], [0.7777777777777778, \"#fb9f3a\"], [0.8888888888888888, \"#fdca26\"], [1.0, \"#f0f921\"]], \"sequentialminus\": [[0.0, \"#0d0887\"], [0.1111111111111111, \"#46039f\"], [0.2222222222222222, \"#7201a8\"], [0.3333333333333333, \"#9c179e\"], [0.4444444444444444, \"#bd3786\"], [0.5555555555555556, \"#d8576b\"], [0.6666666666666666, \"#ed7953\"], [0.7777777777777778, \"#fb9f3a\"], [0.8888888888888888, \"#fdca26\"], [1.0, \"#f0f921\"]]}, \"colorway\": [\"#636efa\", \"#EF553B\", \"#00cc96\", \"#ab63fa\", \"#FFA15A\", \"#19d3f3\", \"#FF6692\", \"#B6E880\", \"#FF97FF\", \"#FECB52\"], \"font\": {\"color\": \"#2a3f5f\"}, \"geo\": {\"bgcolor\": \"white\", \"lakecolor\": \"white\", \"landcolor\": \"#E5ECF6\", \"showlakes\": true, \"showland\": true, \"subunitcolor\": \"white\"}, \"hoverlabel\": {\"align\": \"left\"}, \"hovermode\": \"closest\", \"mapbox\": {\"style\": \"light\"}, \"paper_bgcolor\": \"white\", \"plot_bgcolor\": \"#E5ECF6\", \"polar\": {\"angularaxis\": {\"gridcolor\": \"white\", \"linecolor\": \"white\", \"ticks\": \"\"}, \"bgcolor\": \"#E5ECF6\", \"radialaxis\": {\"gridcolor\": \"white\", \"linecolor\": \"white\", \"ticks\": \"\"}}, \"scene\": {\"xaxis\": {\"backgroundcolor\": \"#E5ECF6\", \"gridcolor\": \"white\", \"gridwidth\": 2, \"linecolor\": \"white\", \"showbackground\": true, \"ticks\": \"\", \"zerolinecolor\": \"white\"}, \"yaxis\": {\"backgroundcolor\": \"#E5ECF6\", \"gridcolor\": \"white\", \"gridwidth\": 2, \"linecolor\": \"white\", \"showbackground\": true, \"ticks\": \"\", \"zerolinecolor\": \"white\"}, \"zaxis\": {\"backgroundcolor\": \"#E5ECF6\", \"gridcolor\": \"white\", \"gridwidth\": 2, \"linecolor\": \"white\", \"showbackground\": true, \"ticks\": \"\", \"zerolinecolor\": \"white\"}}, \"shapedefaults\": {\"line\": {\"color\": \"#2a3f5f\"}}, \"ternary\": {\"aaxis\": {\"gridcolor\": \"white\", \"linecolor\": \"white\", \"ticks\": \"\"}, \"baxis\": {\"gridcolor\": \"white\", \"linecolor\": \"white\", \"ticks\": \"\"}, \"bgcolor\": \"#E5ECF6\", \"caxis\": {\"gridcolor\": \"white\", \"linecolor\": \"white\", \"ticks\": \"\"}}, \"title\": {\"x\": 0.05}, \"xaxis\": {\"automargin\": true, \"gridcolor\": \"white\", \"linecolor\": \"white\", \"ticks\": \"\", \"title\": {\"standoff\": 15}, \"zerolinecolor\": \"white\", \"zerolinewidth\": 2}, \"yaxis\": {\"automargin\": true, \"gridcolor\": \"white\", \"linecolor\": \"white\", \"ticks\": \"\", \"title\": {\"standoff\": 15}, \"zerolinecolor\": \"white\", \"zerolinewidth\": 2}}}, \"title\": {\"text\": \"Credit Card Fraud Class - data unbalance (Not fraud = 0, Fraud = 1)\"}, \"width\": 650, \"xaxis\": {\"showticklabels\": true, \"title\": {\"text\": \"Class\"}}, \"yaxis\": {\"title\": {\"text\": \"Number of transactions\"}}},\n",
       "                        {\"responsive\": true}\n",
       "                    ).then(function(){\n",
       "                            \n",
       "var gd = document.getElementById('2bddb11e-2eb2-4a87-8906-53eb146a1cc2');\n",
       "var x = new MutationObserver(function (mutations, observer) {{\n",
       "        var display = window.getComputedStyle(gd).display;\n",
       "        if (!display || display === 'none') {{\n",
       "            console.log([gd, 'removed!']);\n",
       "            Plotly.purge(gd);\n",
       "            observer.disconnect();\n",
       "        }}\n",
       "}});\n",
       "\n",
       "// Listen for the removal of the full notebook cells\n",
       "var notebookContainer = gd.closest('#notebook-container');\n",
       "if (notebookContainer) {{\n",
       "    x.observe(notebookContainer, {childList: true});\n",
       "}}\n",
       "\n",
       "// Listen for the clearing of the current output cell\n",
       "var outputEl = gd.closest('.output');\n",
       "if (outputEl) {{\n",
       "    x.observe(outputEl, {childList: true});\n",
       "}}\n",
       "\n",
       "                        })\n",
       "                };\n",
       "                });\n",
       "            </script>\n",
       "        </div>"
      ]
     },
     "metadata": {},
     "output_type": "display_data"
    }
   ],
   "source": [
    "temp = train[\"Class\"].value_counts()\n",
    "df = pd.DataFrame({'Class': temp.index,'values': temp.values})\n",
    "\n",
    "trace = go.Bar(\n",
    "    x = df['Class'],y = df['values'],\n",
    "    name=\"Credit Card Fraud Class - data unbalance (Not fraud = 0, Fraud = 1)\",\n",
    "    marker=dict(color=\"Blue\"),\n",
    "    text=df['values']\n",
    ")\n",
    "data = [trace]\n",
    "layout = dict(title = 'Credit Card Fraud Class - data unbalance (Not fraud = 0, Fraud = 1)',\n",
    "          xaxis = dict(title = 'Class', showticklabels=True), \n",
    "          yaxis = dict(title = 'Number of transactions'),\n",
    "          hovermode = 'closest',width=650\n",
    "         )\n",
    "fig = dict(data=data, layout=layout)\n",
    "iplot(fig, filename='class')\n",
    "\n"
   ]
  },
  {
   "cell_type": "code",
   "execution_count": 11,
   "metadata": {},
   "outputs": [
    {
     "data": {
      "application/vnd.plotly.v1+json": {
       "config": {
        "linkText": "Export to plot.ly",
        "plotlyServerURL": "https://plot.ly",
        "showLink": false
       },
       "data": [
        {
         "legendgroup": "Not Fraud",
         "marker": {
          "color": "rgb(31, 119, 180)"
         },
         "mode": "lines",
         "name": "Not Fraud",
         "showlegend": true,
         "type": "scatter",
         "x": [
          0,
          345.584,
          691.168,
          1036.752,
          1382.336,
          1727.92,
          2073.504,
          2419.088,
          2764.672,
          3110.256,
          3455.84,
          3801.424,
          4147.008,
          4492.592,
          4838.176,
          5183.76,
          5529.344,
          5874.928,
          6220.512,
          6566.096,
          6911.68,
          7257.264,
          7602.848,
          7948.432,
          8294.016,
          8639.6,
          8985.184,
          9330.768,
          9676.352,
          10021.936,
          10367.52,
          10713.104,
          11058.688,
          11404.272,
          11749.856,
          12095.44,
          12441.024,
          12786.608,
          13132.192,
          13477.776,
          13823.36,
          14168.944,
          14514.528,
          14860.112,
          15205.696,
          15551.28,
          15896.864,
          16242.448,
          16588.032,
          16933.616,
          17279.2,
          17624.784,
          17970.368,
          18315.952,
          18661.536,
          19007.12,
          19352.704,
          19698.288,
          20043.872,
          20389.456,
          20735.04,
          21080.624,
          21426.208,
          21771.792,
          22117.376,
          22462.96,
          22808.544,
          23154.128,
          23499.712,
          23845.296,
          24190.88,
          24536.464,
          24882.048,
          25227.632,
          25573.216,
          25918.8,
          26264.384,
          26609.968,
          26955.552,
          27301.136,
          27646.72,
          27992.304,
          28337.888,
          28683.472,
          29029.056,
          29374.64,
          29720.224,
          30065.808,
          30411.392,
          30756.976,
          31102.56,
          31448.144,
          31793.728,
          32139.312,
          32484.896,
          32830.48,
          33176.064,
          33521.648,
          33867.232,
          34212.816,
          34558.4,
          34903.984,
          35249.568,
          35595.152,
          35940.736,
          36286.32,
          36631.904,
          36977.488,
          37323.072,
          37668.656,
          38014.24,
          38359.824,
          38705.408,
          39050.992,
          39396.576,
          39742.16,
          40087.744,
          40433.328,
          40778.912,
          41124.496,
          41470.08,
          41815.664,
          42161.248,
          42506.832,
          42852.416,
          43198,
          43543.584,
          43889.168,
          44234.752,
          44580.336,
          44925.92,
          45271.504,
          45617.088,
          45962.672,
          46308.256,
          46653.84,
          46999.424,
          47345.008,
          47690.592,
          48036.176,
          48381.76,
          48727.344,
          49072.928,
          49418.512,
          49764.096,
          50109.68,
          50455.264,
          50800.848,
          51146.432,
          51492.016,
          51837.6,
          52183.184,
          52528.768,
          52874.352,
          53219.936,
          53565.52,
          53911.104,
          54256.688,
          54602.272,
          54947.856,
          55293.44,
          55639.024,
          55984.608,
          56330.192,
          56675.776,
          57021.36,
          57366.944,
          57712.528,
          58058.112,
          58403.696,
          58749.28,
          59094.864,
          59440.448,
          59786.032,
          60131.616,
          60477.2,
          60822.784,
          61168.368,
          61513.952,
          61859.536,
          62205.12,
          62550.704,
          62896.288,
          63241.872,
          63587.456,
          63933.04,
          64278.624,
          64624.208,
          64969.792,
          65315.376,
          65660.96,
          66006.544,
          66352.128,
          66697.712,
          67043.296,
          67388.88,
          67734.464,
          68080.048,
          68425.632,
          68771.216,
          69116.8,
          69462.384,
          69807.968,
          70153.552,
          70499.136,
          70844.72,
          71190.304,
          71535.888,
          71881.472,
          72227.056,
          72572.64,
          72918.224,
          73263.808,
          73609.392,
          73954.976,
          74300.56,
          74646.144,
          74991.728,
          75337.312,
          75682.896,
          76028.48,
          76374.064,
          76719.648,
          77065.232,
          77410.816,
          77756.4,
          78101.984,
          78447.568,
          78793.152,
          79138.736,
          79484.32,
          79829.904,
          80175.488,
          80521.072,
          80866.656,
          81212.24,
          81557.824,
          81903.408,
          82248.992,
          82594.576,
          82940.16,
          83285.744,
          83631.328,
          83976.912,
          84322.496,
          84668.08,
          85013.664,
          85359.248,
          85704.832,
          86050.416,
          86396,
          86741.584,
          87087.168,
          87432.752,
          87778.336,
          88123.92,
          88469.504,
          88815.088,
          89160.672,
          89506.256,
          89851.84,
          90197.424,
          90543.008,
          90888.592,
          91234.176,
          91579.76,
          91925.344,
          92270.928,
          92616.512,
          92962.096,
          93307.68,
          93653.264,
          93998.848,
          94344.432,
          94690.016,
          95035.6,
          95381.184,
          95726.768,
          96072.352,
          96417.936,
          96763.52,
          97109.104,
          97454.688,
          97800.272,
          98145.856,
          98491.44,
          98837.024,
          99182.608,
          99528.192,
          99873.776,
          100219.36,
          100564.944,
          100910.528,
          101256.112,
          101601.696,
          101947.28,
          102292.864,
          102638.448,
          102984.032,
          103329.616,
          103675.2,
          104020.784,
          104366.368,
          104711.952,
          105057.536,
          105403.12,
          105748.704,
          106094.288,
          106439.872,
          106785.456,
          107131.04,
          107476.624,
          107822.208,
          108167.792,
          108513.376,
          108858.96,
          109204.544,
          109550.128,
          109895.712,
          110241.296,
          110586.88,
          110932.464,
          111278.048,
          111623.632,
          111969.216,
          112314.8,
          112660.384,
          113005.968,
          113351.552,
          113697.136,
          114042.72,
          114388.304,
          114733.888,
          115079.472,
          115425.056,
          115770.64,
          116116.224,
          116461.808,
          116807.392,
          117152.976,
          117498.56,
          117844.144,
          118189.728,
          118535.312,
          118880.896,
          119226.48,
          119572.064,
          119917.648,
          120263.232,
          120608.816,
          120954.4,
          121299.984,
          121645.568,
          121991.152,
          122336.736,
          122682.32,
          123027.904,
          123373.488,
          123719.072,
          124064.656,
          124410.24,
          124755.824,
          125101.408,
          125446.992,
          125792.576,
          126138.16,
          126483.744,
          126829.328,
          127174.912,
          127520.496,
          127866.08,
          128211.664,
          128557.248,
          128902.832,
          129248.416,
          129594,
          129939.584,
          130285.168,
          130630.752,
          130976.336,
          131321.92,
          131667.504,
          132013.088,
          132358.672,
          132704.256,
          133049.84,
          133395.424,
          133741.008,
          134086.592,
          134432.176,
          134777.76,
          135123.344,
          135468.928,
          135814.512,
          136160.096,
          136505.68,
          136851.264,
          137196.848,
          137542.432,
          137888.016,
          138233.6,
          138579.184,
          138924.768,
          139270.352,
          139615.936,
          139961.52,
          140307.104,
          140652.688,
          140998.272,
          141343.856,
          141689.44,
          142035.024,
          142380.608,
          142726.192,
          143071.776,
          143417.36,
          143762.944,
          144108.528,
          144454.112,
          144799.696,
          145145.28,
          145490.864,
          145836.448,
          146182.032,
          146527.616,
          146873.2,
          147218.784,
          147564.368,
          147909.952,
          148255.536,
          148601.12,
          148946.704,
          149292.288,
          149637.872,
          149983.456,
          150329.04,
          150674.624,
          151020.208,
          151365.792,
          151711.376,
          152056.96,
          152402.544,
          152748.128,
          153093.712,
          153439.296,
          153784.88,
          154130.464,
          154476.048,
          154821.632,
          155167.216,
          155512.8,
          155858.384,
          156203.968,
          156549.552,
          156895.136,
          157240.72,
          157586.304,
          157931.888,
          158277.472,
          158623.056,
          158968.64,
          159314.224,
          159659.808,
          160005.392,
          160350.976,
          160696.56,
          161042.144,
          161387.728,
          161733.312,
          162078.896,
          162424.48,
          162770.064,
          163115.648,
          163461.232,
          163806.816,
          164152.4,
          164497.984,
          164843.568,
          165189.152,
          165534.736,
          165880.32,
          166225.904,
          166571.488,
          166917.072,
          167262.656,
          167608.24,
          167953.824,
          168299.408,
          168644.992,
          168990.576,
          169336.16,
          169681.744,
          170027.328,
          170372.912,
          170718.496,
          171064.08,
          171409.664,
          171755.248,
          172100.832,
          172446.416
         ],
         "xaxis": "x",
         "y": [
          1.6973474560862627e-06,
          1.7892406860838528e-06,
          1.8751066622895498e-06,
          1.953924021131709e-06,
          2.0248147874843106e-06,
          2.0870700001729115e-06,
          2.14016935231593e-06,
          2.183793947141815e-06,
          2.2178316034667475e-06,
          2.242374511761464e-06,
          2.2577094196195885e-06,
          2.2643008918189945e-06,
          2.2627685234052502e-06,
          2.2538592651664395e-06,
          2.23841623407765e-06,
          2.2173455159804105e-06,
          2.1915825183282738e-06,
          2.1620593970212847e-06,
          2.12967496803883e-06,
          2.095268331193561e-06,
          2.05959719303192e-06,
          2.0233215945720564e-06,
          1.9869934446535077e-06,
          1.9510519490666995e-06,
          1.9158247265703086e-06,
          1.881534131001993e-06,
          1.8483080671293393e-06,
          1.8161944068401388e-06,
          1.785177988507982e-06,
          1.7551991191213953e-06,
          1.7261724957826224e-06,
          1.6980055169884531e-06,
          1.6706150584079206e-06,
          1.6439419340972738e-06,
          1.6179624420038262e-06,
          1.5926965909611322e-06,
          1.5682128135696687e-06,
          1.5446291740590163e-06,
          1.5221112719307157e-06,
          1.5008672116659749e-06,
          1.4811401484837605e-06,
          1.4631990243978153e-06,
          1.447328174052503e-06,
          1.4338165045344423e-06,
          1.4229469381476588e-06,
          1.4149867545429894e-06,
          1.4101793829092357e-06,
          1.4087380819814246e-06,
          1.4108418124354172e-06,
          1.416633460726872e-06,
          1.4262204239962383e-06,
          1.4396774207780313e-06,
          1.4570512600449127e-06,
          1.4783671889174924e-06,
          1.5036363533036462e-06,
          1.5328638503406755e-06,
          1.566056829463842e-06,
          1.6032321108016588e-06,
          1.6444228338375716e-06,
          1.689683722236208e-06,
          1.7390946469102098e-06,
          1.792762281809442e-06,
          1.8508197675565919e-06,
          1.9134244185216927e-06,
          1.980753621024489e-06,
          2.0529991667168726e-06,
          2.1303603398728397e-06,
          2.2130361262112214e-06,
          2.3012169320792582e-06,
          2.3950761967095174e-06,
          2.4947622494236685e-06,
          2.600390712632572e-06,
          2.7120376863087043e-06,
          2.829733877231267e-06,
          2.9534597639184145e-06,
          3.08314182251252e-06,
          3.218649785632598e-06,
          3.3597948693887254e-06,
          3.5063288854051615e-06,
          3.6579441546932664e-06,
          3.814274156307339e-06,
          3.974894871817852e-06,
          4.139326821282089e-06,
          4.307037821357699e-06,
          4.47744652521039e-06,
          4.649926821293438e-06,
          4.823813169618673e-06,
          4.998406937320889e-06,
          5.1729837598210006e-06,
          5.346801901645626e-06,
          5.519111525987055e-06,
          5.689164710128997e-06,
          5.856225971804482e-06,
          6.01958300672074e-06,
          6.178557286897197e-06,
          6.332514139091255e-06,
          6.480871916741519e-06,
          6.623109899730125e-06,
          6.758774603685586e-06,
          6.887484251984151e-06,
          7.008931254393494e-06,
          7.1228826400622634e-06,
          7.229178501787704e-06,
          7.327728615222164e-06,
          7.4185074931608865e-06,
          7.501548214399745e-06,
          7.576935423367316e-06,
          7.644797927106255e-06,
          7.70530131849069e-06,
          7.758641029150762e-06,
          7.805036164695593e-06,
          7.844724402421191e-06,
          7.877958143024664e-06,
          7.905002009089143e-06,
          7.926131680881422e-06,
          7.941633960960514e-06,
          7.951807869480464e-06,
          7.956966497383944e-06,
          7.957439289377044e-06,
          7.953574395833075e-06,
          7.945740724360046e-06,
          7.934329337960166e-06,
          7.919753886307515e-06,
          7.902449817071935e-06,
          7.882872191586983e-06,
          7.861492018652478e-06,
          7.838791116317865e-06,
          7.815255608176151e-06,
          7.791368252069772e-06,
          7.76759987960622e-06,
          7.744400289672022e-06,
          7.722188984437915e-06,
          7.701346159669779e-06,
          7.682204361437302e-06,
          7.665041198951862e-06,
          7.650073460068545e-06,
          7.637452914971322e-06,
          7.627264018690252e-06,
          7.619523638962205e-06,
          7.614182847393712e-06,
          7.611130723686739e-06,
          7.610200039221987e-06,
          7.611174611301136e-06,
          7.613798055773857e-06,
          7.617783615694086e-06,
          7.622824708288295e-06,
          7.6286058123313225e-06,
          7.634813312831897e-06,
          7.64114592906242e-06,
          7.647324374416423e-06,
          7.65309993110725e-06,
          7.658261667942256e-06,
          7.662642083794296e-06,
          7.666121021266822e-06,
          7.668627762522527e-06,
          7.670141290160721e-06,
          7.670688767914657e-06,
          7.670342366007512e-06,
          7.669214621200612e-06,
          7.667452578693217e-06,
          7.665231008940166e-06,
          7.66274502428145e-06,
          7.66020243573115e-06,
          7.657816187892733e-06,
          7.655797189369247e-06,
          7.654347818074227e-06,
          7.653656327679867e-06,
          7.653892316465874e-06,
          7.655203347519694e-06,
          7.657712734803942e-06,
          7.661518438616632e-06,
          7.666692951868894e-06,
          7.673284010222967e-06,
          7.681315928222697e-06,
          7.690791352390224e-06,
          7.701693231398905e-06,
          7.713986831544126e-06,
          7.727621669694495e-06,
          7.742533291007435e-06,
          7.758644879036353e-06,
          7.775868744871326e-06,
          7.79410779301171e-06,
          7.813257098720212e-06,
          7.833205749804814e-06,
          7.853839101993527e-06,
          7.875041570289567e-06,
          7.896700030201783e-06,
          7.918707836091387e-06,
          7.940969384639726e-06,
          7.963405066766211e-06,
          7.985956369289427e-06,
          8.008590816494471e-06,
          8.031306389214013e-06,
          8.054135031363674e-06,
          8.077144855419449e-06,
          8.100440690962984e-06,
          8.1241626833605e-06,
          8.14848273946222e-06,
          8.173598728158167e-06,
          8.19972646813917e-06,
          8.227089664610624e-06,
          8.255908081986862e-06,
          8.286384352227572e-06,
          8.31868991113152e-06,
          8.352950622010655e-06,
          8.389232684289282e-06,
          8.427529432517308e-06,
          8.467749609998037e-06,
          8.50970765346795e-06,
          8.553116455128514e-06,
          8.597582980706167e-06,
          8.642607022227219e-06,
          8.687583256706687e-06,
          8.7318066712248e-06,
          8.77448130436738e-06,
          8.814732146393729e-06,
          8.851619937765455e-06,
          8.88415850941841e-06,
          8.91133421990008e-06,
          8.932126965959532e-06,
          8.94553217654003e-06,
          8.9505831480962e-06,
          8.946373044910867e-06,
          8.932075875017817e-06,
          8.906965763681003e-06,
          8.8704338847293e-06,
          8.822002476834196e-06,
          8.761335466861045e-06,
          8.688245343573518e-06,
          8.602696067955182e-06,
          8.50480196490832e-06,
          8.394822707027605e-06,
          8.273154665238411e-06,
          8.14031905353361e-06,
          7.996947426325238e-06,
          7.843765188648271e-06,
          7.681573845069893e-06,
          7.511232738581459e-06,
          7.333641014717415e-06,
          7.149720490327965e-06,
          6.960400015284352e-06,
          6.766601795742141e-06,
          6.569230008025215e-06,
          6.369161882344951e-06,
          6.167241285296881e-06,
          5.9642746887153425e-06,
          5.761029288153201e-06,
          5.558232933420998e-06,
          5.356575460667355e-06,
          5.156710972657711e-06,
          4.9592606013690826e-06,
          4.764815303057907e-06,
          4.573938277349222e-06,
          4.387166664291067e-06,
          4.205012251684115e-06,
          4.027961014003796e-06,
          3.856471398599811e-06,
          3.6909713696185303e-06,
          3.5318543107641187e-06,
          3.379473970704144e-06,
          3.2341387063644115e-06,
          3.0961053368943386e-06,
          2.965572962655076e-06,
          2.8426771276872567e-06,
          2.727484709805266e-06,
          2.619989909358003e-06,
          2.5201116760152447e-06,
          2.4276928635699885e-06,
          2.3425013372965713e-06,
          2.264233179246785e-06,
          2.192518047148897e-06,
          2.126926646176663e-06,
          2.066980174274724e-06,
          2.0121615058943922e-06,
          1.9619277910246257e-06,
          1.9157240712836386e-06,
          1.872997457088476e-06,
          1.8332113732541477e-06,
          1.7958593673803118e-06,
          1.7604779872841779e-06,
          1.7266582702357457e-06,
          1.6940554459928815e-06,
          1.6623965343017236e-06,
          1.6314856110537775e-06,
          1.6012066201757906e-06,
          1.5715237145408008e-06,
          1.5424792126084122e-06,
          1.5141893523612146e-06,
          1.4868381053924665e-06,
          1.4606693777951696e-06,
          1.4359779681992243e-06,
          1.4130996757282455e-06,
          1.3924009520550415e-06,
          1.3742684736944611e-06,
          1.359098975866334e-06,
          1.3472896412161791e-06,
          1.3392292794638814e-06,
          1.3352904719534256e-06,
          1.3358227923196142e-06,
          1.341147154952041e-06,
          1.3515512899464531e-06,
          1.3672862993905292e-06,
          1.3885642169033652e-06,
          1.4155564712148169e-06,
          1.4483931452167223e-06,
          1.4871629234742211e-06,
          1.531913632014405e-06,
          1.5826532920302946e-06,
          1.6393516311860306e-06,
          1.701942019429809e-06,
          1.7703238174882007e-06,
          1.8443651425656796e-06,
          1.9239060646458667e-06,
          2.008762246256568e-06,
          2.0987290275197405e-06,
          2.193585936646223e-06,
          2.2931015747104426e-06,
          2.397038784592539e-06,
          2.5051599704430643e-06,
          2.617232389775139e-06,
          2.733033199748879e-06,
          2.852354007036834e-06,
          2.975004651334474e-06,
          3.100815950010068e-06,
          3.2296411484897525e-06,
          3.3613558593166232e-06,
          3.4958563323565702e-06,
          3.6330559775249405e-06,
          3.772880156059903e-06,
          3.915259361504739e-06,
          4.060121020560462e-06,
          4.207380249287827e-06,
          4.3569299938607155e-06,
          4.5086310595296095e-06,
          4.662302579861579e-06,
          4.817713495387326e-06,
          4.974575593216112e-06,
          5.132538606064981e-06,
          5.29118778214993e-06,
          5.450044220727603e-06,
          5.608568128320153e-06,
          5.7661649962835346e-06,
          5.922194541198662e-06,
          6.075982095988326e-06,
          6.226832001934229e-06,
          6.374042439170287e-06,
          6.516921053371187e-06,
          6.6548006945823805e-06,
          6.787054583110185e-06,
          6.913110256889379e-06,
          7.032461731691249e-06,
          7.14467941424815e-06,
          7.249417441024101e-06,
          7.34641826260364e-06,
          7.435514445358395e-06,
          7.516627808025405e-06,
          7.589766141684877e-06,
          7.655017869382307e-06,
          7.712545080305865e-06,
          7.762575419365508e-06,
          7.805393325112301e-06,
          7.841331088566704e-06,
          7.870760156337703e-06,
          7.894083028920383e-06,
          7.911726016106728e-06,
          7.924133013619314e-06,
          7.931760366075839e-06,
          7.935072788426304e-06,
          7.934540237283306e-06,
          7.930635559896705e-06,
          7.923832705051495e-06,
          7.914605258270885e-06,
          7.90342506304196e-06,
          7.89076070846701e-06,
          7.877075698646474e-06,
          7.862826166203136e-06,
          7.848458047159104e-06,
          7.834403692291267e-06,
          7.82107794680554e-06,
          7.808873781946292e-06,
          7.798157606036478e-06,
          7.789264416364607e-06,
          7.782492976152238e-06,
          7.778101212259764e-06,
          7.77630202975444e-06,
          7.777259729963352e-06,
          7.781087200522931e-06,
          7.787844020760795e-06,
          7.79753559508473e-06,
          7.810113392412084e-06,
          7.825476332419114e-06,
          7.84347332074367e-06,
          7.863906896333801e-06,
          7.886537915928918e-06,
          7.91109116421336e-06,
          7.937261744566773e-06,
          7.964722075704143e-06,
          7.993129295077426e-06,
          8.022132851959118e-06,
          8.051382062852077e-06,
          8.080533400310436e-06,
          8.109257294160325e-06,
          8.137244241794655e-06,
          8.16421005146629e-06,
          8.189900078482718e-06,
          8.214092357438947e-06,
          8.236599582027277e-06,
          8.257269934936007e-06,
          8.275986820935822e-06,
          8.292667603341735e-06,
          8.307261484600672e-06,
          8.31974670309674e-06,
          8.330127238270504e-06,
          8.338429223485544e-06,
          8.344697260357184e-06,
          8.34899081012148e-06,
          8.351380808722875e-06,
          8.351946615215521e-06,
          8.35077336111727e-06,
          8.347949725304525e-06,
          8.343566118802401e-06,
          8.337713230093822e-06,
          8.33048085743776e-06,
          8.321956942328886e-06,
          8.31222671865372e-06,
          8.301371904983937e-06,
          8.289469891131081e-06,
          8.276592901670688e-06,
          8.262807154750896e-06,
          8.248172069642868e-06,
          8.232739606528159e-06,
          8.21655384265655e-06,
          8.19965089678613e-06,
          8.18205930653055e-06,
          8.163800940243873e-06,
          8.144892487442291e-06,
          8.125347522247994e-06,
          8.105179077168566e-06,
          8.084402605008365e-06,
          8.063039150736891e-06,
          8.041118508591713e-06,
          8.01868210783205e-06,
          7.99578535747785e-06,
          7.97249918855473e-06,
          7.94891056241752e-06,
          7.925121764270978e-06,
          7.901248368810616e-06,
          7.877415845168675e-06,
          7.853754855151636e-06,
          7.830395385603235e-06,
          7.807459936140092e-06,
          7.785056051576918e-06,
          7.763268539232036e-06,
          7.742151741544829e-06,
          7.72172224223308e-06,
          7.701952369437039e-06,
          7.682764823383501e-06,
          7.664028701862127e-06,
          7.645557128088653e-06,
          7.627106606879664e-06,
          7.608378151350893e-06,
          7.5890201384405364e-06,
          7.568632772026084e-06,
          7.546773961324249e-06,
          7.522966363070434e-06,
          7.496705291375268e-06,
          7.467467171099386e-06,
          7.434718200257083e-06,
          7.3979228947754444e-06,
          7.356552214556277e-06,
          7.310091012100825e-06,
          7.258044602058916e-06,
          7.199944319248191e-06,
          7.135352010448118e-06,
          7.063863487342731e-06,
          6.985111049446785e-06,
          6.898765261309039e-06,
          6.804536232138986e-06,
          6.702174692783632e-06,
          6.59147318977305e-06,
          6.472267715052256e-06,
          6.344440060579466e-06,
          6.207921128630434e-06,
          6.062695343022774e-06,
          5.908806197528015e-06,
          5.746362851759791e-06,
          5.575547550174979e-06,
          5.39662350647585e-06,
          5.209942774562229e-06,
          5.015953529263184e-06,
          4.815206115540947e-06,
          4.608357202072403e-06,
          4.396171399757074e-06,
          4.179519780059287e-06,
          3.959374850598438e-06,
          3.736801710492056e-06,
          3.512945306302101e-06,
          3.2890139285170716e-06,
          3.066259313514758e-06,
          2.8459539309658263e-06
         ],
         "yaxis": "y"
        },
        {
         "legendgroup": "Fraud",
         "marker": {
          "color": "rgb(255, 127, 14)"
         },
         "mode": "lines",
         "name": "Fraud",
         "showlegend": true,
         "type": "scatter",
         "x": [
          406,
          745.884,
          1085.768,
          1425.652,
          1765.536,
          2105.42,
          2445.304,
          2785.188,
          3125.072,
          3464.956,
          3804.84,
          4144.724,
          4484.608,
          4824.492,
          5164.376,
          5504.26,
          5844.144,
          6184.028,
          6523.912,
          6863.796,
          7203.68,
          7543.564,
          7883.448,
          8223.332,
          8563.216,
          8903.1,
          9242.984,
          9582.868,
          9922.752,
          10262.636,
          10602.52,
          10942.404,
          11282.288,
          11622.172,
          11962.056,
          12301.94,
          12641.824,
          12981.708,
          13321.592,
          13661.476,
          14001.36,
          14341.244,
          14681.128,
          15021.012,
          15360.896,
          15700.78,
          16040.664,
          16380.548,
          16720.432,
          17060.316,
          17400.2,
          17740.084,
          18079.968,
          18419.852,
          18759.736,
          19099.62,
          19439.504,
          19779.388,
          20119.272,
          20459.156,
          20799.04,
          21138.924,
          21478.808,
          21818.692,
          22158.576,
          22498.46,
          22838.344,
          23178.228,
          23518.112,
          23857.996,
          24197.88,
          24537.764,
          24877.648,
          25217.532,
          25557.416,
          25897.3,
          26237.184,
          26577.068,
          26916.952,
          27256.836,
          27596.72,
          27936.604,
          28276.488,
          28616.372,
          28956.256,
          29296.14,
          29636.024,
          29975.908,
          30315.792,
          30655.676,
          30995.56,
          31335.444,
          31675.328,
          32015.212,
          32355.096,
          32694.98,
          33034.864,
          33374.748,
          33714.632,
          34054.516,
          34394.4,
          34734.284,
          35074.168,
          35414.052,
          35753.936,
          36093.82,
          36433.704,
          36773.588,
          37113.472,
          37453.356,
          37793.24,
          38133.124,
          38473.008,
          38812.892,
          39152.776,
          39492.66,
          39832.544,
          40172.428,
          40512.312,
          40852.196,
          41192.08,
          41531.964,
          41871.848,
          42211.732,
          42551.616,
          42891.5,
          43231.384,
          43571.268,
          43911.152,
          44251.036,
          44590.92,
          44930.804,
          45270.688,
          45610.572,
          45950.456,
          46290.34,
          46630.224,
          46970.108,
          47309.992,
          47649.876,
          47989.76,
          48329.644,
          48669.528,
          49009.412,
          49349.296,
          49689.18,
          50029.064,
          50368.948,
          50708.832,
          51048.716,
          51388.6,
          51728.484,
          52068.368,
          52408.252,
          52748.136,
          53088.02,
          53427.904,
          53767.788,
          54107.672,
          54447.556,
          54787.44,
          55127.324,
          55467.208,
          55807.092,
          56146.976,
          56486.86,
          56826.744,
          57166.628,
          57506.512,
          57846.396,
          58186.28,
          58526.164,
          58866.048,
          59205.932,
          59545.816,
          59885.7,
          60225.584,
          60565.468,
          60905.352,
          61245.236,
          61585.12,
          61925.004,
          62264.888,
          62604.772,
          62944.656,
          63284.54,
          63624.424,
          63964.308,
          64304.192,
          64644.076,
          64983.96,
          65323.844,
          65663.728,
          66003.612,
          66343.496,
          66683.38,
          67023.264,
          67363.148,
          67703.032,
          68042.916,
          68382.8,
          68722.684,
          69062.568,
          69402.452,
          69742.336,
          70082.22,
          70422.104,
          70761.988,
          71101.872,
          71441.756,
          71781.64,
          72121.524,
          72461.408,
          72801.292,
          73141.176,
          73481.06,
          73820.944,
          74160.828,
          74500.712,
          74840.596,
          75180.48,
          75520.364,
          75860.248,
          76200.132,
          76540.016,
          76879.9,
          77219.784,
          77559.668,
          77899.552,
          78239.436,
          78579.32,
          78919.204,
          79259.088,
          79598.972,
          79938.856,
          80278.74,
          80618.624,
          80958.508,
          81298.392,
          81638.276,
          81978.16,
          82318.044,
          82657.928,
          82997.812,
          83337.696,
          83677.58,
          84017.464,
          84357.348,
          84697.232,
          85037.116,
          85377,
          85716.884,
          86056.768,
          86396.652,
          86736.536,
          87076.42,
          87416.304,
          87756.188,
          88096.072,
          88435.956,
          88775.84,
          89115.724,
          89455.608,
          89795.492,
          90135.376,
          90475.26,
          90815.144,
          91155.028,
          91494.912,
          91834.796,
          92174.68,
          92514.564,
          92854.448,
          93194.332,
          93534.216,
          93874.1,
          94213.984,
          94553.868,
          94893.752,
          95233.636,
          95573.52,
          95913.404,
          96253.288,
          96593.172,
          96933.056,
          97272.94,
          97612.824,
          97952.708,
          98292.592,
          98632.476,
          98972.36,
          99312.244,
          99652.128,
          99992.012,
          100331.896,
          100671.78,
          101011.664,
          101351.548,
          101691.432,
          102031.316,
          102371.2,
          102711.084,
          103050.968,
          103390.852,
          103730.736,
          104070.62,
          104410.504,
          104750.388,
          105090.272,
          105430.156,
          105770.04,
          106109.924,
          106449.808,
          106789.692,
          107129.576,
          107469.46,
          107809.344,
          108149.228,
          108489.112,
          108828.996,
          109168.88,
          109508.764,
          109848.648,
          110188.532,
          110528.416,
          110868.3,
          111208.184,
          111548.068,
          111887.952,
          112227.836,
          112567.72,
          112907.604,
          113247.488,
          113587.372,
          113927.256,
          114267.14,
          114607.024,
          114946.908,
          115286.792,
          115626.676,
          115966.56,
          116306.444,
          116646.328,
          116986.212,
          117326.096,
          117665.98,
          118005.864,
          118345.748,
          118685.632,
          119025.516,
          119365.4,
          119705.284,
          120045.168,
          120385.052,
          120724.936,
          121064.82,
          121404.704,
          121744.588,
          122084.472,
          122424.356,
          122764.24,
          123104.124,
          123444.008,
          123783.892,
          124123.776,
          124463.66,
          124803.544,
          125143.428,
          125483.312,
          125823.196,
          126163.08,
          126502.964,
          126842.848,
          127182.732,
          127522.616,
          127862.5,
          128202.384,
          128542.268,
          128882.152,
          129222.036,
          129561.92,
          129901.804,
          130241.688,
          130581.572,
          130921.456,
          131261.34,
          131601.224,
          131941.108,
          132280.992,
          132620.876,
          132960.76,
          133300.644,
          133640.528,
          133980.412,
          134320.296,
          134660.18,
          135000.064,
          135339.948,
          135679.832,
          136019.716,
          136359.6,
          136699.484,
          137039.368,
          137379.252,
          137719.136,
          138059.02,
          138398.904,
          138738.788,
          139078.672,
          139418.556,
          139758.44,
          140098.324,
          140438.208,
          140778.092,
          141117.976,
          141457.86,
          141797.744,
          142137.628,
          142477.512,
          142817.396,
          143157.28,
          143497.164,
          143837.048,
          144176.932,
          144516.816,
          144856.7,
          145196.584,
          145536.468,
          145876.352,
          146216.236,
          146556.12,
          146896.004,
          147235.888,
          147575.772,
          147915.656,
          148255.54,
          148595.424,
          148935.308,
          149275.192,
          149615.076,
          149954.96,
          150294.844,
          150634.728,
          150974.612,
          151314.496,
          151654.38,
          151994.264,
          152334.148,
          152674.032,
          153013.916,
          153353.8,
          153693.684,
          154033.568,
          154373.452,
          154713.336,
          155053.22,
          155393.104,
          155732.988,
          156072.872,
          156412.756,
          156752.64,
          157092.524,
          157432.408,
          157772.292,
          158112.176,
          158452.06,
          158791.944,
          159131.828,
          159471.712,
          159811.596,
          160151.48,
          160491.364,
          160831.248,
          161171.132,
          161511.016,
          161850.9,
          162190.784,
          162530.668,
          162870.552,
          163210.436,
          163550.32,
          163890.204,
          164230.088,
          164569.972,
          164909.856,
          165249.74,
          165589.624,
          165929.508,
          166269.392,
          166609.276,
          166949.16,
          167289.044,
          167628.928,
          167968.812,
          168308.696,
          168648.58,
          168988.464,
          169328.348,
          169668.232,
          170008.116
         ],
         "xaxis": "x",
         "y": [
          2.572527019918418e-06,
          2.631005805812937e-06,
          2.6897686304363096e-06,
          2.748786647363215e-06,
          2.8080309928186186e-06,
          2.8674728524427253e-06,
          2.9270835279276315e-06,
          2.9868345032672442e-06,
          3.0466975103604744e-06,
          3.1066445937077387e-06,
          3.1666481739421264e-06,
          3.226681109938762e-06,
          3.2867167592497503e-06,
          3.3467290366169317e-06,
          3.406692470320781e-06,
          3.466582256131253e-06,
          3.526374308634662e-06,
          3.586045309720732e-06,
          3.645572754024378e-06,
          3.7049349911288056e-06,
          3.7641112643496267e-06,
          3.823081745932923e-06,
          3.881827568515628e-06,
          3.9403308527116626e-06,
          3.998574730703815e-06,
          4.0565433657381914e-06,
          4.114221967435879e-06,
          4.171596802854261e-06,
          4.228655203249314e-06,
          4.285385566508666e-06,
          4.341777355244732e-06,
          4.397821090555953e-06,
          4.45350834148429e-06,
          4.508831710215102e-06,
          4.563784813086289e-06,
          4.618362257490828e-06,
          4.672559614776588e-06,
          4.726373389264866e-06,
          4.7798009835267675e-06,
          4.83284066007392e-06,
          4.885491499635645e-06,
          4.937753356211278e-06,
          4.9896268091001775e-06,
          5.041113112126349e-06,
          5.0922141402872045e-06,
          5.142932334068035e-06,
          5.193270641674171e-06,
          5.243232459442749e-06,
          5.292821570703962e-06,
          5.342042083369242e-06,
          5.390898366529332e-06,
          5.439394986349828e-06,
          5.487536641555422e-06,
          5.535328098794979e-06,
          5.582774128181612e-06,
          5.629879439299512e-06,
          5.676648617968548e-06,
          5.723086064053026e-06,
          5.769195930597316e-06,
          5.8149820645638296e-06,
          5.860447949442464e-06,
          5.905596649991411e-06,
          5.9504307593597765e-06,
          5.9949523488313964e-06,
          6.039162920417344e-06,
          6.083063362511555e-06,
          6.126653908809837e-06,
          6.169934100677945e-06,
          6.212902753138355e-06,
          6.255557924628919e-06,
          6.297896890669667e-06,
          6.339916121555684e-06,
          6.381611264176304e-06,
          6.422977128041528e-06,
          6.464007675577933e-06,
          6.50469601673676e-06,
          6.545034407937361e-06,
          6.585014255349518e-06,
          6.624626122499018e-06,
          6.663859742160647e-06,
          6.702704032484239e-06,
          6.741147117280052e-06,
          6.779176350371275e-06,
          6.816778343903151e-06,
          6.853939000481316e-06,
          6.890643548994118e-06,
          6.9268765839581e-06,
          6.9626221082105396e-06,
          6.997863578757835e-06,
          7.032583955575573e-06,
          7.066765753143316e-06,
          7.100391094485447e-06,
          7.133441767479521e-06,
          7.165899283183912e-06,
          7.197744935928862e-06,
          7.228959864908304e-06,
          7.259525117004093e-06,
          7.289421710570792e-06,
          7.318630699905549e-06,
          7.3471332401269065e-06,
          7.374910652185979e-06,
          7.401944487734295e-06,
          7.428216593576152e-06,
          7.4537091754361816e-06,
          7.478404860778615e-06,
          7.502286760421189e-06,
          7.5253385286939815e-06,
          7.547544421902768e-06,
          7.5688893548659665e-06,
          7.589358955305959e-06,
          7.608939615886934e-06,
          7.6276185437049725e-06,
          7.645383807049709e-06,
          7.662224379271767e-06,
          7.67813017960505e-06,
          7.693092110809925e-06,
          7.707102093518343e-06,
          7.720153097180753e-06,
          7.732239167530264e-06,
          7.743355450497756e-06,
          7.753498212529603e-06,
          7.762664857276423e-06,
          7.770853938639618e-06,
          7.778065170179887e-06,
          7.784299430908168e-06,
          7.789558767497574e-06,
          7.79384639297004e-06,
          7.79716668192795e-06,
          7.799525162415756e-06,
          7.800928504511131e-06,
          7.801384505758742e-06,
          7.800902073572762e-06,
          7.799491204745427e-06,
          7.797162962210424e-06,
          7.793929449219107e-06,
          7.78980378109638e-06,
          7.784800054750643e-06,
          7.778933316118128e-06,
          7.7722195257276e-06,
          7.764675522574627e-06,
          7.75631898649778e-06,
          7.747168399250406e-06,
          7.737243004461257e-06,
          7.726562766677164e-06,
          7.715148329678096e-06,
          7.703020974251553e-06,
          7.690202575608846e-06,
          7.676715560620796e-06,
          7.662582865042429e-06,
          7.647827890890538e-06,
          7.632474464127662e-06,
          7.616546792798236e-06,
          7.60006942575189e-06,
          7.583067212077946e-06,
          7.565565261365005e-06,
          7.5475889048861955e-06,
          7.5291636577997275e-06,
          7.510315182441238e-06,
          7.491069252771455e-06,
          7.471451720031e-06,
          7.4514884796393176e-06,
          7.431205439363608e-06,
          7.410628488770467e-06,
          7.389783469959167e-06,
          7.368696149565697e-06,
          7.3473921920127426e-06,
          7.325897133970936e-06,
          7.304236359985544e-06,
          7.282435079212536e-06,
          7.260518303199252e-06,
          7.238510824635931e-06,
          7.2164371969967705e-06,
          7.1943217149825935e-06,
          7.172188395671032e-06,
          7.150060960275756e-06,
          7.1279628164118875e-06,
          7.105917040762365e-06,
          7.08394636203787e-06,
          7.0620731441226695e-06,
          7.040319369298788e-06,
          7.018706621442342e-06,
          6.997256069088544e-06,
          6.975988448265329e-06,
          6.954924045000059e-06,
          6.934082677409289e-06,
          6.91348367728811e-06,
          6.893145871122813e-06,
          6.873087560459105e-06,
          6.85332650156659e-06,
          6.833879884350605e-06,
          6.814764310472566e-06,
          6.795995770650809e-06,
          6.77758962112589e-06,
          6.759560559286028e-06,
          6.741922598460664e-06,
          6.724689041902921e-06,
          6.707872455994459e-06,
          6.6914846427192845e-06,
          6.675536611465738e-06,
          6.660038550229453e-06,
          6.644999796301862e-06,
          6.630428806542273e-06,
          6.616333127343148e-06,
          6.60271936441016e-06,
          6.589593152489995e-06,
          6.576959125189144e-06,
          6.564820885037662e-06,
          6.553180973960312e-06,
          6.542040844326766e-06,
          6.531400830759606e-06,
          6.52126012288577e-06,
          6.5116167392228665e-06,
          6.50246750239599e-06,
          6.493808015884779e-06,
          6.485632642502064e-06,
          6.4779344848076e-06,
          6.470705367659415e-06,
          6.463935823104725e-06,
          6.45761507780952e-06,
          6.451731043222334e-06,
          6.446270308662619e-06,
          6.441218137517923e-06,
          6.436558466726342e-06,
          6.432273909712515e-06,
          6.428345762934637e-06,
          6.42475401618952e-06,
          6.4214773668104815e-06,
          6.418493237878817e-06,
          6.415777800556122e-06,
          6.4133060006287515e-06,
          6.411051589339756e-06,
          6.408987158566514e-06,
          6.407084180384327e-06,
          6.405313051037881e-06,
          6.403643139323297e-06,
          6.402042839363781e-06,
          6.400479627742134e-06,
          6.398920124932853e-06,
          6.397330160956046e-06,
          6.395674845154968e-06,
          6.393918639978058e-06,
          6.3920254386263285e-06,
          6.389958646405971e-06,
          6.387681265607025e-06,
          6.385155983708639e-06,
          6.38234526469288e-06,
          6.379211443230835e-06,
          6.375716821486895e-06,
          6.3718237682706325e-06,
          6.367494820249902e-06,
          6.36269278492403e-06,
          6.357380845042466e-06,
          6.3515226641418e-06,
          6.345082492863208e-06,
          6.338025275702308e-06,
          6.330316757835684e-06,
          6.321923591660977e-06,
          6.312813442682558e-06,
          6.302955094371118e-06,
          6.292318551623303e-06,
          6.280875142447136e-06,
          6.268597617500541e-06,
          6.255460247112568e-06,
          6.241438915422391e-06,
          6.226511211276383e-06,
          6.2106565155324996e-06,
          6.193856084429973e-06,
          6.17609312869381e-06,
          6.157352888056185e-06,
          6.137622700890797e-06,
          6.116892068672295e-06,
          6.095152714989146e-06,
          6.072398638857379e-06,
          6.048626162101342e-06,
          6.0238339705888565e-06,
          5.998023149129177e-06,
          5.971197209865402e-06,
          5.943362114015653e-06,
          5.914526286842001e-06,
          5.8847006257506395e-06,
          5.853898501451924e-06,
          5.822135752134668e-06,
          5.7894306706348805e-06,
          5.7558039846049595e-06,
          5.7212788297156276e-06,
          5.685880715948569e-06,
          5.6496374870633735e-06,
          5.612579273347972e-06,
          5.574738437786229e-06,
          5.536149515800895e-06,
          5.4968491487535515e-06,
          5.456876011406088e-06,
          5.4162707335700055e-06,
          5.37507581619075e-06,
          5.33333554213421e-06,
          5.291095881960872e-06,
          5.248404394990801e-06,
          5.205310125978368e-06,
          5.1618634977305e-06,
          5.11811620001525e-06,
          5.074121075119356e-06,
          5.029932000423425e-06,
          4.9856037683720875e-06,
          4.941191964223308e-06,
          4.896752841966401e-06,
          4.8523431988021575e-06,
          4.808020248580183e-06,
          4.763841494589366e-06,
          4.719864602095876e-06,
          4.676147271020589e-06,
          4.632747109143132e-06,
          4.589721506214109e-06,
          4.547127509349563e-06,
          4.505021700072849e-06,
          4.4634600733590005e-06,
          4.422497919024834e-06,
          4.382189705795715e-06,
          4.3425889683652545e-06,
          4.30374819774975e-06,
          4.2657187352226015e-06,
          4.228550670097033e-06,
          4.192292741607471e-06,
          4.156992245121317e-06,
          4.122694942893465e-06,
          4.089444979555855e-06,
          4.057284802514104e-06,
          4.026255087402535e-06,
          3.9963946687275235e-06,
          3.9677404758083995e-06,
          3.940327474103147e-06,
          3.914188611985553e-06,
          3.889354773018635e-06,
          3.865854733748636e-06,
          3.843715127022965e-06,
          3.8229604108152885e-06,
          3.803612842520981e-06,
          3.7856924586670503e-06,
          3.769217059961994e-06,
          3.7542022015929186e-06,
          3.7406611886604264e-06,
          3.7286050766251518e-06,
          3.718042676624742e-06,
          3.70898056550533e-06,
          3.701423100398435e-06,
          3.695372437661672e-06,
          3.6908285559905303e-06,
          3.6877892834982047e-06,
          3.6862503285517056e-06,
          3.686205314144644e-06,
          3.687645815580386e-06,
          3.690561401234203e-06,
          3.6949396761586598e-06,
          3.700766328293753e-06,
          3.7080251770415652e-06,
          3.7166982239646557e-06,
          3.726765705368289e-06,
          3.738206146528155e-06,
          3.7509964173285537e-06,
          3.7651117890798206e-06,
          3.7805259922891007e-06,
          3.7972112751645677e-06,
          3.815138462640423e-06,
          3.834277015717929e-06,
          3.8545950909266296e-06,
          3.876059599719653e-06,
          3.898636267627166e-06,
          3.922289693003299e-06,
          3.94698340521336e-06,
          3.972679922120383e-06,
          3.9993408067424625e-06,
          4.026926722965422e-06,
          4.0553974902085626e-06,
          4.084712136954442e-06,
          4.114828953067467e-06,
          4.145705540839353e-06,
          4.177298864713323e-06,
          4.209565299651933e-06,
          4.242460678127159e-06,
          4.275940335723664e-06,
          4.309959155359333e-06,
          4.344471610138979e-06,
          4.3794318048687506e-06,
          4.414793516270268e-06,
          4.450510231943431e-06,
          4.486535188137171e-06,
          4.5228214063960735e-06,
          4.559321729159451e-06,
          4.595988854396516e-06,
          4.63277536936818e-06,
          4.669633783611574e-06,
          4.7065165612480985e-06,
          4.743376152719507e-06,
          4.780165026059656e-06,
          4.816835697810889e-06,
          4.8533407636952975e-06,
          4.889632929150577e-06,
          4.9256650398392945e-06,
          4.961390112238061e-06,
          4.996761364410147e-06,
          5.031732247060992e-06,
          5.066256474971185e-06,
          5.100288058895631e-06,
          5.133781338011258e-06,
          5.166691012987884e-06,
          5.19897217974911e-06,
          5.230580363981216e-06,
          5.26147155643864e-06,
          5.291602249084775e-06,
          5.320929472096579e-06,
          5.34941083175043e-06,
          5.377004549195872e-06,
          5.4036695001124245e-06,
          5.4293652552331135e-06,
          5.4540521217067536e-06,
          5.477691185259584e-06,
          5.500244353104931e-06,
          5.521674397538641e-06,
          5.541945000146363e-06,
          5.561020796538232e-06,
          5.578867421515785e-06,
          5.595451554565909e-06,
          5.610740965567119e-06,
          5.6247045605843495e-06,
          5.637312427620307e-06,
          5.648535882183493e-06,
          5.65834751252651e-06,
          5.666721224401679e-06,
          5.6736322851763365e-06,
          5.679057367145258e-06,
          5.682974589874616e-06,
          5.6853635614091865e-06,
          5.686205418173046e-06,
          5.6854828633933666e-06,
          5.6831802038774935e-06,
          5.6792833849747315e-06,
          5.673780023556718e-06,
          5.66665943885375e-06,
          5.65791268098852e-06,
          5.6475325570542406e-06,
          5.63551365459e-06,
          5.621852362313586e-06,
          5.606546887979505e-06,
          5.589597273238925e-06,
          5.571005405387344e-06,
          5.550775025896205e-06,
          5.528911735635076e-06,
          5.505422996702588e-06,
          5.480318130795817e-06,
          5.453608314060395e-06,
          5.42530656837587e-06,
          5.395427749044038e-06,
          5.363988528860968e-06,
          5.331007378566766e-06,
          5.296504543680575e-06,
          5.260502017741648e-06,
          5.223023511990746e-06,
          5.184094421539272e-06,
          5.1437417880866455e-06,
          5.101994259259248e-06,
          5.058882044656459e-06,
          5.014436868701737e-06,
          4.9686919204079945e-06,
          4.921681800177756e-06,
          4.873442463769114e-06,
          4.824011163568484e-06,
          4.773426387320356e-06,
          4.721727794472901e-06,
          4.668956150306307e-06,
          4.6151532580175615e-06,
          4.560361888942082e-06,
          4.504625711097862e-06,
          4.4479892162428285e-06,
          4.390497645639761e-06,
          4.332196914726352e-06,
          4.27313353689029e-06,
          4.213354546550484e-06,
          4.152907421746281e-06,
          4.091840006436425e-06,
          4.0302004327081e-06,
          3.968037043095127e-06,
          3.905398313201443e-06,
          3.842332774823001e-06,
          3.7788889397569994e-06,
          3.7151152244830637e-06,
          3.6510598758955174e-06,
          3.586770898260024e-06,
          3.522295981561827e-06,
          3.457682431405477e-06,
          3.3929771006189366e-06,
          3.328226322707071e-06,
          3.2634758472913725e-06,
          3.1987707776643122e-06,
          3.134155510578029e-06,
          3.0696736783780283e-06,
          3.00536809358335e-06,
          2.9412806960054663e-06,
          2.877452502488681e-06,
          2.8139235593453064e-06,
          2.7507328975493906e-06,
          2.6879184907434155e-06
         ],
         "yaxis": "y"
        }
       ],
       "layout": {
        "barmode": "overlay",
        "hovermode": "closest",
        "legend": {
         "traceorder": "reversed"
        },
        "template": {
         "data": {
          "bar": [
           {
            "error_x": {
             "color": "#2a3f5f"
            },
            "error_y": {
             "color": "#2a3f5f"
            },
            "marker": {
             "line": {
              "color": "#E5ECF6",
              "width": 0.5
             }
            },
            "type": "bar"
           }
          ],
          "barpolar": [
           {
            "marker": {
             "line": {
              "color": "#E5ECF6",
              "width": 0.5
             }
            },
            "type": "barpolar"
           }
          ],
          "carpet": [
           {
            "aaxis": {
             "endlinecolor": "#2a3f5f",
             "gridcolor": "white",
             "linecolor": "white",
             "minorgridcolor": "white",
             "startlinecolor": "#2a3f5f"
            },
            "baxis": {
             "endlinecolor": "#2a3f5f",
             "gridcolor": "white",
             "linecolor": "white",
             "minorgridcolor": "white",
             "startlinecolor": "#2a3f5f"
            },
            "type": "carpet"
           }
          ],
          "choropleth": [
           {
            "colorbar": {
             "outlinewidth": 0,
             "ticks": ""
            },
            "type": "choropleth"
           }
          ],
          "contour": [
           {
            "colorbar": {
             "outlinewidth": 0,
             "ticks": ""
            },
            "colorscale": [
             [
              0,
              "#0d0887"
             ],
             [
              0.1111111111111111,
              "#46039f"
             ],
             [
              0.2222222222222222,
              "#7201a8"
             ],
             [
              0.3333333333333333,
              "#9c179e"
             ],
             [
              0.4444444444444444,
              "#bd3786"
             ],
             [
              0.5555555555555556,
              "#d8576b"
             ],
             [
              0.6666666666666666,
              "#ed7953"
             ],
             [
              0.7777777777777778,
              "#fb9f3a"
             ],
             [
              0.8888888888888888,
              "#fdca26"
             ],
             [
              1,
              "#f0f921"
             ]
            ],
            "type": "contour"
           }
          ],
          "contourcarpet": [
           {
            "colorbar": {
             "outlinewidth": 0,
             "ticks": ""
            },
            "type": "contourcarpet"
           }
          ],
          "heatmap": [
           {
            "colorbar": {
             "outlinewidth": 0,
             "ticks": ""
            },
            "colorscale": [
             [
              0,
              "#0d0887"
             ],
             [
              0.1111111111111111,
              "#46039f"
             ],
             [
              0.2222222222222222,
              "#7201a8"
             ],
             [
              0.3333333333333333,
              "#9c179e"
             ],
             [
              0.4444444444444444,
              "#bd3786"
             ],
             [
              0.5555555555555556,
              "#d8576b"
             ],
             [
              0.6666666666666666,
              "#ed7953"
             ],
             [
              0.7777777777777778,
              "#fb9f3a"
             ],
             [
              0.8888888888888888,
              "#fdca26"
             ],
             [
              1,
              "#f0f921"
             ]
            ],
            "type": "heatmap"
           }
          ],
          "heatmapgl": [
           {
            "colorbar": {
             "outlinewidth": 0,
             "ticks": ""
            },
            "colorscale": [
             [
              0,
              "#0d0887"
             ],
             [
              0.1111111111111111,
              "#46039f"
             ],
             [
              0.2222222222222222,
              "#7201a8"
             ],
             [
              0.3333333333333333,
              "#9c179e"
             ],
             [
              0.4444444444444444,
              "#bd3786"
             ],
             [
              0.5555555555555556,
              "#d8576b"
             ],
             [
              0.6666666666666666,
              "#ed7953"
             ],
             [
              0.7777777777777778,
              "#fb9f3a"
             ],
             [
              0.8888888888888888,
              "#fdca26"
             ],
             [
              1,
              "#f0f921"
             ]
            ],
            "type": "heatmapgl"
           }
          ],
          "histogram": [
           {
            "marker": {
             "colorbar": {
              "outlinewidth": 0,
              "ticks": ""
             }
            },
            "type": "histogram"
           }
          ],
          "histogram2d": [
           {
            "colorbar": {
             "outlinewidth": 0,
             "ticks": ""
            },
            "colorscale": [
             [
              0,
              "#0d0887"
             ],
             [
              0.1111111111111111,
              "#46039f"
             ],
             [
              0.2222222222222222,
              "#7201a8"
             ],
             [
              0.3333333333333333,
              "#9c179e"
             ],
             [
              0.4444444444444444,
              "#bd3786"
             ],
             [
              0.5555555555555556,
              "#d8576b"
             ],
             [
              0.6666666666666666,
              "#ed7953"
             ],
             [
              0.7777777777777778,
              "#fb9f3a"
             ],
             [
              0.8888888888888888,
              "#fdca26"
             ],
             [
              1,
              "#f0f921"
             ]
            ],
            "type": "histogram2d"
           }
          ],
          "histogram2dcontour": [
           {
            "colorbar": {
             "outlinewidth": 0,
             "ticks": ""
            },
            "colorscale": [
             [
              0,
              "#0d0887"
             ],
             [
              0.1111111111111111,
              "#46039f"
             ],
             [
              0.2222222222222222,
              "#7201a8"
             ],
             [
              0.3333333333333333,
              "#9c179e"
             ],
             [
              0.4444444444444444,
              "#bd3786"
             ],
             [
              0.5555555555555556,
              "#d8576b"
             ],
             [
              0.6666666666666666,
              "#ed7953"
             ],
             [
              0.7777777777777778,
              "#fb9f3a"
             ],
             [
              0.8888888888888888,
              "#fdca26"
             ],
             [
              1,
              "#f0f921"
             ]
            ],
            "type": "histogram2dcontour"
           }
          ],
          "mesh3d": [
           {
            "colorbar": {
             "outlinewidth": 0,
             "ticks": ""
            },
            "type": "mesh3d"
           }
          ],
          "parcoords": [
           {
            "line": {
             "colorbar": {
              "outlinewidth": 0,
              "ticks": ""
             }
            },
            "type": "parcoords"
           }
          ],
          "pie": [
           {
            "automargin": true,
            "type": "pie"
           }
          ],
          "scatter": [
           {
            "marker": {
             "colorbar": {
              "outlinewidth": 0,
              "ticks": ""
             }
            },
            "type": "scatter"
           }
          ],
          "scatter3d": [
           {
            "line": {
             "colorbar": {
              "outlinewidth": 0,
              "ticks": ""
             }
            },
            "marker": {
             "colorbar": {
              "outlinewidth": 0,
              "ticks": ""
             }
            },
            "type": "scatter3d"
           }
          ],
          "scattercarpet": [
           {
            "marker": {
             "colorbar": {
              "outlinewidth": 0,
              "ticks": ""
             }
            },
            "type": "scattercarpet"
           }
          ],
          "scattergeo": [
           {
            "marker": {
             "colorbar": {
              "outlinewidth": 0,
              "ticks": ""
             }
            },
            "type": "scattergeo"
           }
          ],
          "scattergl": [
           {
            "marker": {
             "colorbar": {
              "outlinewidth": 0,
              "ticks": ""
             }
            },
            "type": "scattergl"
           }
          ],
          "scattermapbox": [
           {
            "marker": {
             "colorbar": {
              "outlinewidth": 0,
              "ticks": ""
             }
            },
            "type": "scattermapbox"
           }
          ],
          "scatterpolar": [
           {
            "marker": {
             "colorbar": {
              "outlinewidth": 0,
              "ticks": ""
             }
            },
            "type": "scatterpolar"
           }
          ],
          "scatterpolargl": [
           {
            "marker": {
             "colorbar": {
              "outlinewidth": 0,
              "ticks": ""
             }
            },
            "type": "scatterpolargl"
           }
          ],
          "scatterternary": [
           {
            "marker": {
             "colorbar": {
              "outlinewidth": 0,
              "ticks": ""
             }
            },
            "type": "scatterternary"
           }
          ],
          "surface": [
           {
            "colorbar": {
             "outlinewidth": 0,
             "ticks": ""
            },
            "colorscale": [
             [
              0,
              "#0d0887"
             ],
             [
              0.1111111111111111,
              "#46039f"
             ],
             [
              0.2222222222222222,
              "#7201a8"
             ],
             [
              0.3333333333333333,
              "#9c179e"
             ],
             [
              0.4444444444444444,
              "#bd3786"
             ],
             [
              0.5555555555555556,
              "#d8576b"
             ],
             [
              0.6666666666666666,
              "#ed7953"
             ],
             [
              0.7777777777777778,
              "#fb9f3a"
             ],
             [
              0.8888888888888888,
              "#fdca26"
             ],
             [
              1,
              "#f0f921"
             ]
            ],
            "type": "surface"
           }
          ],
          "table": [
           {
            "cells": {
             "fill": {
              "color": "#EBF0F8"
             },
             "line": {
              "color": "white"
             }
            },
            "header": {
             "fill": {
              "color": "#C8D4E3"
             },
             "line": {
              "color": "white"
             }
            },
            "type": "table"
           }
          ]
         },
         "layout": {
          "annotationdefaults": {
           "arrowcolor": "#2a3f5f",
           "arrowhead": 0,
           "arrowwidth": 1
          },
          "coloraxis": {
           "colorbar": {
            "outlinewidth": 0,
            "ticks": ""
           }
          },
          "colorscale": {
           "diverging": [
            [
             0,
             "#8e0152"
            ],
            [
             0.1,
             "#c51b7d"
            ],
            [
             0.2,
             "#de77ae"
            ],
            [
             0.3,
             "#f1b6da"
            ],
            [
             0.4,
             "#fde0ef"
            ],
            [
             0.5,
             "#f7f7f7"
            ],
            [
             0.6,
             "#e6f5d0"
            ],
            [
             0.7,
             "#b8e186"
            ],
            [
             0.8,
             "#7fbc41"
            ],
            [
             0.9,
             "#4d9221"
            ],
            [
             1,
             "#276419"
            ]
           ],
           "sequential": [
            [
             0,
             "#0d0887"
            ],
            [
             0.1111111111111111,
             "#46039f"
            ],
            [
             0.2222222222222222,
             "#7201a8"
            ],
            [
             0.3333333333333333,
             "#9c179e"
            ],
            [
             0.4444444444444444,
             "#bd3786"
            ],
            [
             0.5555555555555556,
             "#d8576b"
            ],
            [
             0.6666666666666666,
             "#ed7953"
            ],
            [
             0.7777777777777778,
             "#fb9f3a"
            ],
            [
             0.8888888888888888,
             "#fdca26"
            ],
            [
             1,
             "#f0f921"
            ]
           ],
           "sequentialminus": [
            [
             0,
             "#0d0887"
            ],
            [
             0.1111111111111111,
             "#46039f"
            ],
            [
             0.2222222222222222,
             "#7201a8"
            ],
            [
             0.3333333333333333,
             "#9c179e"
            ],
            [
             0.4444444444444444,
             "#bd3786"
            ],
            [
             0.5555555555555556,
             "#d8576b"
            ],
            [
             0.6666666666666666,
             "#ed7953"
            ],
            [
             0.7777777777777778,
             "#fb9f3a"
            ],
            [
             0.8888888888888888,
             "#fdca26"
            ],
            [
             1,
             "#f0f921"
            ]
           ]
          },
          "colorway": [
           "#636efa",
           "#EF553B",
           "#00cc96",
           "#ab63fa",
           "#FFA15A",
           "#19d3f3",
           "#FF6692",
           "#B6E880",
           "#FF97FF",
           "#FECB52"
          ],
          "font": {
           "color": "#2a3f5f"
          },
          "geo": {
           "bgcolor": "white",
           "lakecolor": "white",
           "landcolor": "#E5ECF6",
           "showlakes": true,
           "showland": true,
           "subunitcolor": "white"
          },
          "hoverlabel": {
           "align": "left"
          },
          "hovermode": "closest",
          "mapbox": {
           "style": "light"
          },
          "paper_bgcolor": "white",
          "plot_bgcolor": "#E5ECF6",
          "polar": {
           "angularaxis": {
            "gridcolor": "white",
            "linecolor": "white",
            "ticks": ""
           },
           "bgcolor": "#E5ECF6",
           "radialaxis": {
            "gridcolor": "white",
            "linecolor": "white",
            "ticks": ""
           }
          },
          "scene": {
           "xaxis": {
            "backgroundcolor": "#E5ECF6",
            "gridcolor": "white",
            "gridwidth": 2,
            "linecolor": "white",
            "showbackground": true,
            "ticks": "",
            "zerolinecolor": "white"
           },
           "yaxis": {
            "backgroundcolor": "#E5ECF6",
            "gridcolor": "white",
            "gridwidth": 2,
            "linecolor": "white",
            "showbackground": true,
            "ticks": "",
            "zerolinecolor": "white"
           },
           "zaxis": {
            "backgroundcolor": "#E5ECF6",
            "gridcolor": "white",
            "gridwidth": 2,
            "linecolor": "white",
            "showbackground": true,
            "ticks": "",
            "zerolinecolor": "white"
           }
          },
          "shapedefaults": {
           "line": {
            "color": "#2a3f5f"
           }
          },
          "ternary": {
           "aaxis": {
            "gridcolor": "white",
            "linecolor": "white",
            "ticks": ""
           },
           "baxis": {
            "gridcolor": "white",
            "linecolor": "white",
            "ticks": ""
           },
           "bgcolor": "#E5ECF6",
           "caxis": {
            "gridcolor": "white",
            "linecolor": "white",
            "ticks": ""
           }
          },
          "title": {
           "x": 0.05
          },
          "xaxis": {
           "automargin": true,
           "gridcolor": "white",
           "linecolor": "white",
           "ticks": "",
           "title": {
            "standoff": 15
           },
           "zerolinecolor": "white",
           "zerolinewidth": 2
          },
          "yaxis": {
           "automargin": true,
           "gridcolor": "white",
           "linecolor": "white",
           "ticks": "",
           "title": {
            "standoff": 15
           },
           "zerolinecolor": "white",
           "zerolinewidth": 2
          }
         }
        },
        "title": {
         "text": "Credit Card Transactions Time Density Plot"
        },
        "xaxis": {
         "anchor": "y2",
         "domain": [
          0,
          1
         ],
         "title": {
          "text": "Time [s]"
         },
         "zeroline": false
        },
        "yaxis": {
         "anchor": "free",
         "domain": [
          0,
          1
         ],
         "position": 0
        }
       }
      },
      "text/html": [
       "<div>\n",
       "        \n",
       "        \n",
       "            <div id=\"cde3fb01-3616-485a-9ff0-fb35125c585c\" class=\"plotly-graph-div\" style=\"height:525px; width:100%;\"></div>\n",
       "            <script type=\"text/javascript\">\n",
       "                require([\"plotly\"], function(Plotly) {\n",
       "                    window.PLOTLYENV=window.PLOTLYENV || {};\n",
       "                    \n",
       "                if (document.getElementById(\"cde3fb01-3616-485a-9ff0-fb35125c585c\")) {\n",
       "                    Plotly.newPlot(\n",
       "                        'cde3fb01-3616-485a-9ff0-fb35125c585c',\n",
       "                        [{\"legendgroup\": \"Not Fraud\", \"marker\": {\"color\": \"rgb(31, 119, 180)\"}, \"mode\": \"lines\", \"name\": \"Not Fraud\", \"showlegend\": true, \"type\": \"scatter\", \"x\": [0.0, 345.584, 691.168, 1036.752, 1382.336, 1727.92, 2073.504, 2419.088, 2764.672, 3110.256, 3455.84, 3801.424, 4147.008, 4492.592, 4838.176, 5183.76, 5529.344, 5874.928, 6220.512, 6566.096, 6911.68, 7257.264, 7602.848, 7948.432, 8294.016, 8639.6, 8985.184, 9330.768, 9676.352, 10021.936, 10367.52, 10713.104, 11058.688, 11404.272, 11749.856, 12095.44, 12441.024, 12786.608, 13132.192, 13477.776, 13823.36, 14168.944, 14514.528, 14860.112, 15205.696, 15551.28, 15896.864, 16242.448, 16588.032, 16933.616, 17279.2, 17624.784, 17970.368, 18315.952, 18661.536, 19007.12, 19352.704, 19698.288, 20043.872, 20389.456, 20735.04, 21080.624, 21426.208, 21771.792, 22117.376, 22462.96, 22808.544, 23154.128, 23499.712, 23845.296, 24190.88, 24536.464, 24882.048, 25227.632, 25573.216, 25918.8, 26264.384, 26609.968, 26955.552, 27301.136, 27646.72, 27992.304, 28337.888, 28683.472, 29029.056, 29374.64, 29720.224, 30065.808, 30411.392, 30756.976, 31102.56, 31448.144, 31793.728, 32139.312, 32484.896, 32830.48, 33176.064, 33521.648, 33867.232, 34212.816, 34558.4, 34903.984, 35249.568, 35595.152, 35940.736, 36286.32, 36631.904, 36977.488, 37323.072, 37668.656, 38014.24, 38359.824, 38705.408, 39050.992, 39396.576, 39742.16, 40087.744, 40433.328, 40778.912, 41124.496, 41470.08, 41815.664, 42161.248, 42506.832, 42852.416, 43198.0, 43543.584, 43889.168, 44234.752, 44580.336, 44925.92, 45271.504, 45617.088, 45962.672, 46308.256, 46653.84, 46999.424, 47345.008, 47690.592, 48036.176, 48381.76, 48727.344, 49072.928, 49418.512, 49764.096, 50109.68, 50455.264, 50800.848, 51146.432, 51492.016, 51837.6, 52183.184, 52528.768, 52874.352, 53219.936, 53565.52, 53911.104, 54256.688, 54602.272, 54947.856, 55293.44, 55639.024, 55984.608, 56330.192, 56675.776, 57021.36, 57366.944, 57712.528, 58058.112, 58403.696, 58749.28, 59094.864, 59440.448, 59786.032, 60131.616, 60477.2, 60822.784, 61168.368, 61513.952, 61859.536, 62205.12, 62550.704, 62896.288, 63241.872, 63587.456, 63933.04, 64278.624, 64624.208, 64969.792, 65315.376, 65660.96, 66006.544, 66352.128, 66697.712, 67043.296, 67388.88, 67734.464, 68080.048, 68425.632, 68771.216, 69116.8, 69462.384, 69807.968, 70153.552, 70499.136, 70844.72, 71190.304, 71535.888, 71881.472, 72227.056, 72572.64, 72918.224, 73263.808, 73609.392, 73954.976, 74300.56, 74646.144, 74991.728, 75337.312, 75682.896, 76028.48, 76374.064, 76719.648, 77065.232, 77410.816, 77756.4, 78101.984, 78447.568, 78793.152, 79138.736, 79484.32, 79829.904, 80175.488, 80521.072, 80866.656, 81212.24, 81557.824, 81903.408, 82248.992, 82594.576, 82940.16, 83285.744, 83631.328, 83976.912, 84322.496, 84668.08, 85013.664, 85359.248, 85704.832, 86050.416, 86396.0, 86741.584, 87087.168, 87432.752, 87778.336, 88123.92, 88469.504, 88815.088, 89160.672, 89506.256, 89851.84, 90197.424, 90543.008, 90888.592, 91234.176, 91579.76, 91925.344, 92270.928, 92616.512, 92962.096, 93307.68, 93653.264, 93998.848, 94344.432, 94690.016, 95035.6, 95381.184, 95726.768, 96072.352, 96417.936, 96763.52, 97109.104, 97454.688, 97800.272, 98145.856, 98491.44, 98837.024, 99182.608, 99528.192, 99873.776, 100219.36, 100564.944, 100910.528, 101256.112, 101601.696, 101947.28, 102292.864, 102638.448, 102984.032, 103329.616, 103675.2, 104020.784, 104366.368, 104711.952, 105057.536, 105403.12, 105748.704, 106094.288, 106439.872, 106785.456, 107131.04, 107476.624, 107822.208, 108167.792, 108513.376, 108858.96, 109204.544, 109550.128, 109895.712, 110241.296, 110586.88, 110932.464, 111278.048, 111623.632, 111969.216, 112314.8, 112660.384, 113005.968, 113351.552, 113697.136, 114042.72, 114388.304, 114733.888, 115079.472, 115425.056, 115770.64, 116116.224, 116461.808, 116807.392, 117152.976, 117498.56, 117844.144, 118189.728, 118535.312, 118880.896, 119226.48, 119572.064, 119917.648, 120263.232, 120608.816, 120954.4, 121299.984, 121645.568, 121991.152, 122336.736, 122682.32, 123027.904, 123373.488, 123719.072, 124064.656, 124410.24, 124755.824, 125101.408, 125446.992, 125792.576, 126138.16, 126483.744, 126829.328, 127174.912, 127520.496, 127866.08, 128211.664, 128557.248, 128902.832, 129248.416, 129594.0, 129939.584, 130285.168, 130630.752, 130976.336, 131321.92, 131667.504, 132013.088, 132358.672, 132704.256, 133049.84, 133395.424, 133741.008, 134086.592, 134432.176, 134777.76, 135123.344, 135468.928, 135814.512, 136160.096, 136505.68, 136851.264, 137196.848, 137542.432, 137888.016, 138233.6, 138579.184, 138924.768, 139270.352, 139615.936, 139961.52, 140307.104, 140652.688, 140998.272, 141343.856, 141689.44, 142035.024, 142380.608, 142726.192, 143071.776, 143417.36, 143762.944, 144108.528, 144454.112, 144799.696, 145145.28, 145490.864, 145836.448, 146182.032, 146527.616, 146873.2, 147218.784, 147564.368, 147909.952, 148255.536, 148601.12, 148946.704, 149292.288, 149637.872, 149983.456, 150329.04, 150674.624, 151020.208, 151365.792, 151711.376, 152056.96, 152402.544, 152748.128, 153093.712, 153439.296, 153784.88, 154130.464, 154476.048, 154821.632, 155167.216, 155512.8, 155858.384, 156203.968, 156549.552, 156895.136, 157240.72, 157586.304, 157931.888, 158277.472, 158623.056, 158968.64, 159314.224, 159659.808, 160005.392, 160350.976, 160696.56, 161042.144, 161387.728, 161733.312, 162078.896, 162424.48, 162770.064, 163115.648, 163461.232, 163806.816, 164152.4, 164497.984, 164843.568, 165189.152, 165534.736, 165880.32, 166225.904, 166571.488, 166917.072, 167262.656, 167608.24, 167953.824, 168299.408, 168644.992, 168990.576, 169336.16, 169681.744, 170027.328, 170372.912, 170718.496, 171064.08, 171409.664, 171755.248, 172100.832, 172446.416], \"xaxis\": \"x\", \"y\": [1.6973474560862627e-06, 1.7892406860838528e-06, 1.8751066622895498e-06, 1.953924021131709e-06, 2.0248147874843106e-06, 2.0870700001729115e-06, 2.14016935231593e-06, 2.183793947141815e-06, 2.2178316034667475e-06, 2.242374511761464e-06, 2.2577094196195885e-06, 2.2643008918189945e-06, 2.2627685234052502e-06, 2.2538592651664395e-06, 2.23841623407765e-06, 2.2173455159804105e-06, 2.1915825183282738e-06, 2.1620593970212847e-06, 2.12967496803883e-06, 2.095268331193561e-06, 2.05959719303192e-06, 2.0233215945720564e-06, 1.9869934446535077e-06, 1.9510519490666995e-06, 1.9158247265703086e-06, 1.881534131001993e-06, 1.8483080671293393e-06, 1.8161944068401388e-06, 1.785177988507982e-06, 1.7551991191213953e-06, 1.7261724957826224e-06, 1.6980055169884531e-06, 1.6706150584079206e-06, 1.6439419340972738e-06, 1.6179624420038262e-06, 1.5926965909611322e-06, 1.5682128135696687e-06, 1.5446291740590163e-06, 1.5221112719307157e-06, 1.5008672116659749e-06, 1.4811401484837605e-06, 1.4631990243978153e-06, 1.447328174052503e-06, 1.4338165045344423e-06, 1.4229469381476588e-06, 1.4149867545429894e-06, 1.4101793829092357e-06, 1.4087380819814246e-06, 1.4108418124354172e-06, 1.416633460726872e-06, 1.4262204239962383e-06, 1.4396774207780313e-06, 1.4570512600449127e-06, 1.4783671889174924e-06, 1.5036363533036462e-06, 1.5328638503406755e-06, 1.566056829463842e-06, 1.6032321108016588e-06, 1.6444228338375716e-06, 1.689683722236208e-06, 1.7390946469102098e-06, 1.792762281809442e-06, 1.8508197675565919e-06, 1.9134244185216927e-06, 1.980753621024489e-06, 2.0529991667168726e-06, 2.1303603398728397e-06, 2.2130361262112214e-06, 2.3012169320792582e-06, 2.3950761967095174e-06, 2.4947622494236685e-06, 2.600390712632572e-06, 2.7120376863087043e-06, 2.829733877231267e-06, 2.9534597639184145e-06, 3.08314182251252e-06, 3.218649785632598e-06, 3.3597948693887254e-06, 3.5063288854051615e-06, 3.6579441546932664e-06, 3.814274156307339e-06, 3.974894871817852e-06, 4.139326821282089e-06, 4.307037821357699e-06, 4.47744652521039e-06, 4.649926821293438e-06, 4.823813169618673e-06, 4.998406937320889e-06, 5.1729837598210006e-06, 5.346801901645626e-06, 5.519111525987055e-06, 5.689164710128997e-06, 5.856225971804482e-06, 6.01958300672074e-06, 6.178557286897197e-06, 6.332514139091255e-06, 6.480871916741519e-06, 6.623109899730125e-06, 6.758774603685586e-06, 6.887484251984151e-06, 7.008931254393494e-06, 7.1228826400622634e-06, 7.229178501787704e-06, 7.327728615222164e-06, 7.4185074931608865e-06, 7.501548214399745e-06, 7.576935423367316e-06, 7.644797927106255e-06, 7.70530131849069e-06, 7.758641029150762e-06, 7.805036164695593e-06, 7.844724402421191e-06, 7.877958143024664e-06, 7.905002009089143e-06, 7.926131680881422e-06, 7.941633960960514e-06, 7.951807869480464e-06, 7.956966497383944e-06, 7.957439289377044e-06, 7.953574395833075e-06, 7.945740724360046e-06, 7.934329337960166e-06, 7.919753886307515e-06, 7.902449817071935e-06, 7.882872191586983e-06, 7.861492018652478e-06, 7.838791116317865e-06, 7.815255608176151e-06, 7.791368252069772e-06, 7.76759987960622e-06, 7.744400289672022e-06, 7.722188984437915e-06, 7.701346159669779e-06, 7.682204361437302e-06, 7.665041198951862e-06, 7.650073460068545e-06, 7.637452914971322e-06, 7.627264018690252e-06, 7.619523638962205e-06, 7.614182847393712e-06, 7.611130723686739e-06, 7.610200039221987e-06, 7.611174611301136e-06, 7.613798055773857e-06, 7.617783615694086e-06, 7.622824708288295e-06, 7.6286058123313225e-06, 7.634813312831897e-06, 7.64114592906242e-06, 7.647324374416423e-06, 7.65309993110725e-06, 7.658261667942256e-06, 7.662642083794296e-06, 7.666121021266822e-06, 7.668627762522527e-06, 7.670141290160721e-06, 7.670688767914657e-06, 7.670342366007512e-06, 7.669214621200612e-06, 7.667452578693217e-06, 7.665231008940166e-06, 7.66274502428145e-06, 7.66020243573115e-06, 7.657816187892733e-06, 7.655797189369247e-06, 7.654347818074227e-06, 7.653656327679867e-06, 7.653892316465874e-06, 7.655203347519694e-06, 7.657712734803942e-06, 7.661518438616632e-06, 7.666692951868894e-06, 7.673284010222967e-06, 7.681315928222697e-06, 7.690791352390224e-06, 7.701693231398905e-06, 7.713986831544126e-06, 7.727621669694495e-06, 7.742533291007435e-06, 7.758644879036353e-06, 7.775868744871326e-06, 7.79410779301171e-06, 7.813257098720212e-06, 7.833205749804814e-06, 7.853839101993527e-06, 7.875041570289567e-06, 7.896700030201783e-06, 7.918707836091387e-06, 7.940969384639726e-06, 7.963405066766211e-06, 7.985956369289427e-06, 8.008590816494471e-06, 8.031306389214013e-06, 8.054135031363674e-06, 8.077144855419449e-06, 8.100440690962984e-06, 8.1241626833605e-06, 8.14848273946222e-06, 8.173598728158167e-06, 8.19972646813917e-06, 8.227089664610624e-06, 8.255908081986862e-06, 8.286384352227572e-06, 8.31868991113152e-06, 8.352950622010655e-06, 8.389232684289282e-06, 8.427529432517308e-06, 8.467749609998037e-06, 8.50970765346795e-06, 8.553116455128514e-06, 8.597582980706167e-06, 8.642607022227219e-06, 8.687583256706687e-06, 8.7318066712248e-06, 8.77448130436738e-06, 8.814732146393729e-06, 8.851619937765455e-06, 8.88415850941841e-06, 8.91133421990008e-06, 8.932126965959532e-06, 8.94553217654003e-06, 8.9505831480962e-06, 8.946373044910867e-06, 8.932075875017817e-06, 8.906965763681003e-06, 8.8704338847293e-06, 8.822002476834196e-06, 8.761335466861045e-06, 8.688245343573518e-06, 8.602696067955182e-06, 8.50480196490832e-06, 8.394822707027605e-06, 8.273154665238411e-06, 8.14031905353361e-06, 7.996947426325238e-06, 7.843765188648271e-06, 7.681573845069893e-06, 7.511232738581459e-06, 7.333641014717415e-06, 7.149720490327965e-06, 6.960400015284352e-06, 6.766601795742141e-06, 6.569230008025215e-06, 6.369161882344951e-06, 6.167241285296881e-06, 5.9642746887153425e-06, 5.761029288153201e-06, 5.558232933420998e-06, 5.356575460667355e-06, 5.156710972657711e-06, 4.9592606013690826e-06, 4.764815303057907e-06, 4.573938277349222e-06, 4.387166664291067e-06, 4.205012251684115e-06, 4.027961014003796e-06, 3.856471398599811e-06, 3.6909713696185303e-06, 3.5318543107641187e-06, 3.379473970704144e-06, 3.2341387063644115e-06, 3.0961053368943386e-06, 2.965572962655076e-06, 2.8426771276872567e-06, 2.727484709805266e-06, 2.619989909358003e-06, 2.5201116760152447e-06, 2.4276928635699885e-06, 2.3425013372965713e-06, 2.264233179246785e-06, 2.192518047148897e-06, 2.126926646176663e-06, 2.066980174274724e-06, 2.0121615058943922e-06, 1.9619277910246257e-06, 1.9157240712836386e-06, 1.872997457088476e-06, 1.8332113732541477e-06, 1.7958593673803118e-06, 1.7604779872841779e-06, 1.7266582702357457e-06, 1.6940554459928815e-06, 1.6623965343017236e-06, 1.6314856110537775e-06, 1.6012066201757906e-06, 1.5715237145408008e-06, 1.5424792126084122e-06, 1.5141893523612146e-06, 1.4868381053924665e-06, 1.4606693777951696e-06, 1.4359779681992243e-06, 1.4130996757282455e-06, 1.3924009520550415e-06, 1.3742684736944611e-06, 1.359098975866334e-06, 1.3472896412161791e-06, 1.3392292794638814e-06, 1.3352904719534256e-06, 1.3358227923196142e-06, 1.341147154952041e-06, 1.3515512899464531e-06, 1.3672862993905292e-06, 1.3885642169033652e-06, 1.4155564712148169e-06, 1.4483931452167223e-06, 1.4871629234742211e-06, 1.531913632014405e-06, 1.5826532920302946e-06, 1.6393516311860306e-06, 1.701942019429809e-06, 1.7703238174882007e-06, 1.8443651425656796e-06, 1.9239060646458667e-06, 2.008762246256568e-06, 2.0987290275197405e-06, 2.193585936646223e-06, 2.2931015747104426e-06, 2.397038784592539e-06, 2.5051599704430643e-06, 2.617232389775139e-06, 2.733033199748879e-06, 2.852354007036834e-06, 2.975004651334474e-06, 3.100815950010068e-06, 3.2296411484897525e-06, 3.3613558593166232e-06, 3.4958563323565702e-06, 3.6330559775249405e-06, 3.772880156059903e-06, 3.915259361504739e-06, 4.060121020560462e-06, 4.207380249287827e-06, 4.3569299938607155e-06, 4.5086310595296095e-06, 4.662302579861579e-06, 4.817713495387326e-06, 4.974575593216112e-06, 5.132538606064981e-06, 5.29118778214993e-06, 5.450044220727603e-06, 5.608568128320153e-06, 5.7661649962835346e-06, 5.922194541198662e-06, 6.075982095988326e-06, 6.226832001934229e-06, 6.374042439170287e-06, 6.516921053371187e-06, 6.6548006945823805e-06, 6.787054583110185e-06, 6.913110256889379e-06, 7.032461731691249e-06, 7.14467941424815e-06, 7.249417441024101e-06, 7.34641826260364e-06, 7.435514445358395e-06, 7.516627808025405e-06, 7.589766141684877e-06, 7.655017869382307e-06, 7.712545080305865e-06, 7.762575419365508e-06, 7.805393325112301e-06, 7.841331088566704e-06, 7.870760156337703e-06, 7.894083028920383e-06, 7.911726016106728e-06, 7.924133013619314e-06, 7.931760366075839e-06, 7.935072788426304e-06, 7.934540237283306e-06, 7.930635559896705e-06, 7.923832705051495e-06, 7.914605258270885e-06, 7.90342506304196e-06, 7.89076070846701e-06, 7.877075698646474e-06, 7.862826166203136e-06, 7.848458047159104e-06, 7.834403692291267e-06, 7.82107794680554e-06, 7.808873781946292e-06, 7.798157606036478e-06, 7.789264416364607e-06, 7.782492976152238e-06, 7.778101212259764e-06, 7.77630202975444e-06, 7.777259729963352e-06, 7.781087200522931e-06, 7.787844020760795e-06, 7.79753559508473e-06, 7.810113392412084e-06, 7.825476332419114e-06, 7.84347332074367e-06, 7.863906896333801e-06, 7.886537915928918e-06, 7.91109116421336e-06, 7.937261744566773e-06, 7.964722075704143e-06, 7.993129295077426e-06, 8.022132851959118e-06, 8.051382062852077e-06, 8.080533400310436e-06, 8.109257294160325e-06, 8.137244241794655e-06, 8.16421005146629e-06, 8.189900078482718e-06, 8.214092357438947e-06, 8.236599582027277e-06, 8.257269934936007e-06, 8.275986820935822e-06, 8.292667603341735e-06, 8.307261484600672e-06, 8.31974670309674e-06, 8.330127238270504e-06, 8.338429223485544e-06, 8.344697260357184e-06, 8.34899081012148e-06, 8.351380808722875e-06, 8.351946615215521e-06, 8.35077336111727e-06, 8.347949725304525e-06, 8.343566118802401e-06, 8.337713230093822e-06, 8.33048085743776e-06, 8.321956942328886e-06, 8.31222671865372e-06, 8.301371904983937e-06, 8.289469891131081e-06, 8.276592901670688e-06, 8.262807154750896e-06, 8.248172069642868e-06, 8.232739606528159e-06, 8.21655384265655e-06, 8.19965089678613e-06, 8.18205930653055e-06, 8.163800940243873e-06, 8.144892487442291e-06, 8.125347522247994e-06, 8.105179077168566e-06, 8.084402605008365e-06, 8.063039150736891e-06, 8.041118508591713e-06, 8.01868210783205e-06, 7.99578535747785e-06, 7.97249918855473e-06, 7.94891056241752e-06, 7.925121764270978e-06, 7.901248368810616e-06, 7.877415845168675e-06, 7.853754855151636e-06, 7.830395385603235e-06, 7.807459936140092e-06, 7.785056051576918e-06, 7.763268539232036e-06, 7.742151741544829e-06, 7.72172224223308e-06, 7.701952369437039e-06, 7.682764823383501e-06, 7.664028701862127e-06, 7.645557128088653e-06, 7.627106606879664e-06, 7.608378151350893e-06, 7.5890201384405364e-06, 7.568632772026084e-06, 7.546773961324249e-06, 7.522966363070434e-06, 7.496705291375268e-06, 7.467467171099386e-06, 7.434718200257083e-06, 7.3979228947754444e-06, 7.356552214556277e-06, 7.310091012100825e-06, 7.258044602058916e-06, 7.199944319248191e-06, 7.135352010448118e-06, 7.063863487342731e-06, 6.985111049446785e-06, 6.898765261309039e-06, 6.804536232138986e-06, 6.702174692783632e-06, 6.59147318977305e-06, 6.472267715052256e-06, 6.344440060579466e-06, 6.207921128630434e-06, 6.062695343022774e-06, 5.908806197528015e-06, 5.746362851759791e-06, 5.575547550174979e-06, 5.39662350647585e-06, 5.209942774562229e-06, 5.015953529263184e-06, 4.815206115540947e-06, 4.608357202072403e-06, 4.396171399757074e-06, 4.179519780059287e-06, 3.959374850598438e-06, 3.736801710492056e-06, 3.512945306302101e-06, 3.2890139285170716e-06, 3.066259313514758e-06, 2.8459539309658263e-06], \"yaxis\": \"y\"}, {\"legendgroup\": \"Fraud\", \"marker\": {\"color\": \"rgb(255, 127, 14)\"}, \"mode\": \"lines\", \"name\": \"Fraud\", \"showlegend\": true, \"type\": \"scatter\", \"x\": [406.0, 745.884, 1085.768, 1425.652, 1765.536, 2105.42, 2445.304, 2785.188, 3125.072, 3464.956, 3804.84, 4144.724, 4484.608, 4824.492, 5164.376, 5504.26, 5844.144, 6184.028, 6523.912, 6863.796, 7203.68, 7543.564, 7883.448, 8223.332, 8563.216, 8903.1, 9242.984, 9582.868, 9922.752, 10262.636, 10602.52, 10942.404, 11282.288, 11622.172, 11962.056, 12301.94, 12641.824, 12981.708, 13321.592, 13661.476, 14001.36, 14341.244, 14681.128, 15021.012, 15360.896, 15700.78, 16040.664, 16380.548, 16720.432, 17060.316, 17400.2, 17740.084, 18079.968, 18419.852, 18759.736, 19099.62, 19439.504, 19779.388, 20119.272, 20459.156, 20799.04, 21138.924, 21478.808, 21818.692, 22158.576, 22498.46, 22838.344, 23178.228, 23518.112, 23857.996, 24197.88, 24537.764, 24877.648, 25217.532, 25557.416, 25897.3, 26237.184, 26577.068, 26916.952, 27256.836, 27596.72, 27936.604, 28276.488, 28616.372, 28956.256, 29296.14, 29636.024, 29975.908, 30315.792, 30655.676, 30995.56, 31335.444, 31675.328, 32015.212, 32355.096, 32694.98, 33034.864, 33374.748, 33714.632, 34054.516, 34394.4, 34734.284, 35074.168, 35414.052, 35753.936, 36093.82, 36433.704, 36773.588, 37113.472, 37453.356, 37793.24, 38133.124, 38473.008, 38812.892, 39152.776, 39492.66, 39832.544, 40172.428, 40512.312, 40852.196, 41192.08, 41531.964, 41871.848, 42211.732, 42551.616, 42891.5, 43231.384, 43571.268, 43911.152, 44251.036, 44590.92, 44930.804, 45270.688, 45610.572, 45950.456, 46290.34, 46630.224, 46970.108, 47309.992, 47649.876, 47989.76, 48329.644, 48669.528, 49009.412, 49349.296, 49689.18, 50029.064, 50368.948, 50708.832, 51048.716, 51388.6, 51728.484, 52068.368, 52408.252, 52748.136, 53088.02, 53427.904, 53767.788, 54107.672, 54447.556, 54787.44, 55127.324, 55467.208, 55807.092, 56146.976, 56486.86, 56826.744, 57166.628, 57506.512, 57846.396, 58186.28, 58526.164, 58866.048, 59205.932, 59545.816, 59885.7, 60225.584, 60565.468, 60905.352, 61245.236, 61585.12, 61925.004, 62264.888, 62604.772, 62944.656, 63284.54, 63624.424, 63964.308, 64304.192, 64644.076, 64983.96, 65323.844, 65663.728, 66003.612, 66343.496, 66683.38, 67023.264, 67363.148, 67703.032, 68042.916, 68382.8, 68722.684, 69062.568, 69402.452, 69742.336, 70082.22, 70422.104, 70761.988, 71101.872, 71441.756, 71781.64, 72121.524, 72461.408, 72801.292, 73141.176, 73481.06, 73820.944, 74160.828, 74500.712, 74840.596, 75180.48, 75520.364, 75860.248, 76200.132, 76540.016, 76879.9, 77219.784, 77559.668, 77899.552, 78239.436, 78579.32, 78919.204, 79259.088, 79598.972, 79938.856, 80278.74, 80618.624, 80958.508, 81298.392, 81638.276, 81978.16, 82318.044, 82657.928, 82997.812, 83337.696, 83677.58, 84017.464, 84357.348, 84697.232, 85037.116, 85377.0, 85716.884, 86056.768, 86396.652, 86736.536, 87076.42, 87416.304, 87756.188, 88096.072, 88435.956, 88775.84, 89115.724, 89455.608, 89795.492, 90135.376, 90475.26, 90815.144, 91155.028, 91494.912, 91834.796, 92174.68, 92514.564, 92854.448, 93194.332, 93534.216, 93874.1, 94213.984, 94553.868, 94893.752, 95233.636, 95573.52, 95913.404, 96253.288, 96593.172, 96933.056, 97272.94, 97612.824, 97952.708, 98292.592, 98632.476, 98972.36, 99312.244, 99652.128, 99992.012, 100331.896, 100671.78, 101011.664, 101351.548, 101691.432, 102031.316, 102371.2, 102711.084, 103050.968, 103390.852, 103730.736, 104070.62, 104410.504, 104750.388, 105090.272, 105430.156, 105770.04, 106109.924, 106449.808, 106789.692, 107129.576, 107469.46, 107809.344, 108149.228, 108489.112, 108828.996, 109168.88, 109508.764, 109848.648, 110188.532, 110528.416, 110868.3, 111208.184, 111548.068, 111887.952, 112227.836, 112567.72, 112907.604, 113247.488, 113587.372, 113927.256, 114267.14, 114607.024, 114946.908, 115286.792, 115626.676, 115966.56, 116306.444, 116646.328, 116986.212, 117326.096, 117665.98, 118005.864, 118345.748, 118685.632, 119025.516, 119365.4, 119705.284, 120045.168, 120385.052, 120724.936, 121064.82, 121404.704, 121744.588, 122084.472, 122424.356, 122764.24, 123104.124, 123444.008, 123783.892, 124123.776, 124463.66, 124803.544, 125143.428, 125483.312, 125823.196, 126163.08, 126502.964, 126842.848, 127182.732, 127522.616, 127862.5, 128202.384, 128542.268, 128882.152, 129222.036, 129561.92, 129901.804, 130241.688, 130581.572, 130921.456, 131261.34, 131601.224, 131941.108, 132280.992, 132620.876, 132960.76, 133300.644, 133640.528, 133980.412, 134320.296, 134660.18, 135000.064, 135339.948, 135679.832, 136019.716, 136359.6, 136699.484, 137039.368, 137379.252, 137719.136, 138059.02, 138398.904, 138738.788, 139078.672, 139418.556, 139758.44, 140098.324, 140438.208, 140778.092, 141117.976, 141457.86, 141797.744, 142137.628, 142477.512, 142817.396, 143157.28, 143497.164, 143837.048, 144176.932, 144516.816, 144856.7, 145196.584, 145536.468, 145876.352, 146216.236, 146556.12, 146896.004, 147235.888, 147575.772, 147915.656, 148255.54, 148595.424, 148935.308, 149275.192, 149615.076, 149954.96, 150294.844, 150634.728, 150974.612, 151314.496, 151654.38, 151994.264, 152334.148, 152674.032, 153013.916, 153353.8, 153693.684, 154033.568, 154373.452, 154713.336, 155053.22, 155393.104, 155732.988, 156072.872, 156412.756, 156752.64, 157092.524, 157432.408, 157772.292, 158112.176, 158452.06, 158791.944, 159131.828, 159471.712, 159811.596, 160151.48, 160491.364, 160831.248, 161171.132, 161511.016, 161850.9, 162190.784, 162530.668, 162870.552, 163210.436, 163550.32, 163890.204, 164230.088, 164569.972, 164909.856, 165249.74, 165589.624, 165929.508, 166269.392, 166609.276, 166949.16, 167289.044, 167628.928, 167968.812, 168308.696, 168648.58, 168988.464, 169328.348, 169668.232, 170008.116], \"xaxis\": \"x\", \"y\": [2.572527019918418e-06, 2.631005805812937e-06, 2.6897686304363096e-06, 2.748786647363215e-06, 2.8080309928186186e-06, 2.8674728524427253e-06, 2.9270835279276315e-06, 2.9868345032672442e-06, 3.0466975103604744e-06, 3.1066445937077387e-06, 3.1666481739421264e-06, 3.226681109938762e-06, 3.2867167592497503e-06, 3.3467290366169317e-06, 3.406692470320781e-06, 3.466582256131253e-06, 3.526374308634662e-06, 3.586045309720732e-06, 3.645572754024378e-06, 3.7049349911288056e-06, 3.7641112643496267e-06, 3.823081745932923e-06, 3.881827568515628e-06, 3.9403308527116626e-06, 3.998574730703815e-06, 4.0565433657381914e-06, 4.114221967435879e-06, 4.171596802854261e-06, 4.228655203249314e-06, 4.285385566508666e-06, 4.341777355244732e-06, 4.397821090555953e-06, 4.45350834148429e-06, 4.508831710215102e-06, 4.563784813086289e-06, 4.618362257490828e-06, 4.672559614776588e-06, 4.726373389264866e-06, 4.7798009835267675e-06, 4.83284066007392e-06, 4.885491499635645e-06, 4.937753356211278e-06, 4.9896268091001775e-06, 5.041113112126349e-06, 5.0922141402872045e-06, 5.142932334068035e-06, 5.193270641674171e-06, 5.243232459442749e-06, 5.292821570703962e-06, 5.342042083369242e-06, 5.390898366529332e-06, 5.439394986349828e-06, 5.487536641555422e-06, 5.535328098794979e-06, 5.582774128181612e-06, 5.629879439299512e-06, 5.676648617968548e-06, 5.723086064053026e-06, 5.769195930597316e-06, 5.8149820645638296e-06, 5.860447949442464e-06, 5.905596649991411e-06, 5.9504307593597765e-06, 5.9949523488313964e-06, 6.039162920417344e-06, 6.083063362511555e-06, 6.126653908809837e-06, 6.169934100677945e-06, 6.212902753138355e-06, 6.255557924628919e-06, 6.297896890669667e-06, 6.339916121555684e-06, 6.381611264176304e-06, 6.422977128041528e-06, 6.464007675577933e-06, 6.50469601673676e-06, 6.545034407937361e-06, 6.585014255349518e-06, 6.624626122499018e-06, 6.663859742160647e-06, 6.702704032484239e-06, 6.741147117280052e-06, 6.779176350371275e-06, 6.816778343903151e-06, 6.853939000481316e-06, 6.890643548994118e-06, 6.9268765839581e-06, 6.9626221082105396e-06, 6.997863578757835e-06, 7.032583955575573e-06, 7.066765753143316e-06, 7.100391094485447e-06, 7.133441767479521e-06, 7.165899283183912e-06, 7.197744935928862e-06, 7.228959864908304e-06, 7.259525117004093e-06, 7.289421710570792e-06, 7.318630699905549e-06, 7.3471332401269065e-06, 7.374910652185979e-06, 7.401944487734295e-06, 7.428216593576152e-06, 7.4537091754361816e-06, 7.478404860778615e-06, 7.502286760421189e-06, 7.5253385286939815e-06, 7.547544421902768e-06, 7.5688893548659665e-06, 7.589358955305959e-06, 7.608939615886934e-06, 7.6276185437049725e-06, 7.645383807049709e-06, 7.662224379271767e-06, 7.67813017960505e-06, 7.693092110809925e-06, 7.707102093518343e-06, 7.720153097180753e-06, 7.732239167530264e-06, 7.743355450497756e-06, 7.753498212529603e-06, 7.762664857276423e-06, 7.770853938639618e-06, 7.778065170179887e-06, 7.784299430908168e-06, 7.789558767497574e-06, 7.79384639297004e-06, 7.79716668192795e-06, 7.799525162415756e-06, 7.800928504511131e-06, 7.801384505758742e-06, 7.800902073572762e-06, 7.799491204745427e-06, 7.797162962210424e-06, 7.793929449219107e-06, 7.78980378109638e-06, 7.784800054750643e-06, 7.778933316118128e-06, 7.7722195257276e-06, 7.764675522574627e-06, 7.75631898649778e-06, 7.747168399250406e-06, 7.737243004461257e-06, 7.726562766677164e-06, 7.715148329678096e-06, 7.703020974251553e-06, 7.690202575608846e-06, 7.676715560620796e-06, 7.662582865042429e-06, 7.647827890890538e-06, 7.632474464127662e-06, 7.616546792798236e-06, 7.60006942575189e-06, 7.583067212077946e-06, 7.565565261365005e-06, 7.5475889048861955e-06, 7.5291636577997275e-06, 7.510315182441238e-06, 7.491069252771455e-06, 7.471451720031e-06, 7.4514884796393176e-06, 7.431205439363608e-06, 7.410628488770467e-06, 7.389783469959167e-06, 7.368696149565697e-06, 7.3473921920127426e-06, 7.325897133970936e-06, 7.304236359985544e-06, 7.282435079212536e-06, 7.260518303199252e-06, 7.238510824635931e-06, 7.2164371969967705e-06, 7.1943217149825935e-06, 7.172188395671032e-06, 7.150060960275756e-06, 7.1279628164118875e-06, 7.105917040762365e-06, 7.08394636203787e-06, 7.0620731441226695e-06, 7.040319369298788e-06, 7.018706621442342e-06, 6.997256069088544e-06, 6.975988448265329e-06, 6.954924045000059e-06, 6.934082677409289e-06, 6.91348367728811e-06, 6.893145871122813e-06, 6.873087560459105e-06, 6.85332650156659e-06, 6.833879884350605e-06, 6.814764310472566e-06, 6.795995770650809e-06, 6.77758962112589e-06, 6.759560559286028e-06, 6.741922598460664e-06, 6.724689041902921e-06, 6.707872455994459e-06, 6.6914846427192845e-06, 6.675536611465738e-06, 6.660038550229453e-06, 6.644999796301862e-06, 6.630428806542273e-06, 6.616333127343148e-06, 6.60271936441016e-06, 6.589593152489995e-06, 6.576959125189144e-06, 6.564820885037662e-06, 6.553180973960312e-06, 6.542040844326766e-06, 6.531400830759606e-06, 6.52126012288577e-06, 6.5116167392228665e-06, 6.50246750239599e-06, 6.493808015884779e-06, 6.485632642502064e-06, 6.4779344848076e-06, 6.470705367659415e-06, 6.463935823104725e-06, 6.45761507780952e-06, 6.451731043222334e-06, 6.446270308662619e-06, 6.441218137517923e-06, 6.436558466726342e-06, 6.432273909712515e-06, 6.428345762934637e-06, 6.42475401618952e-06, 6.4214773668104815e-06, 6.418493237878817e-06, 6.415777800556122e-06, 6.4133060006287515e-06, 6.411051589339756e-06, 6.408987158566514e-06, 6.407084180384327e-06, 6.405313051037881e-06, 6.403643139323297e-06, 6.402042839363781e-06, 6.400479627742134e-06, 6.398920124932853e-06, 6.397330160956046e-06, 6.395674845154968e-06, 6.393918639978058e-06, 6.3920254386263285e-06, 6.389958646405971e-06, 6.387681265607025e-06, 6.385155983708639e-06, 6.38234526469288e-06, 6.379211443230835e-06, 6.375716821486895e-06, 6.3718237682706325e-06, 6.367494820249902e-06, 6.36269278492403e-06, 6.357380845042466e-06, 6.3515226641418e-06, 6.345082492863208e-06, 6.338025275702308e-06, 6.330316757835684e-06, 6.321923591660977e-06, 6.312813442682558e-06, 6.302955094371118e-06, 6.292318551623303e-06, 6.280875142447136e-06, 6.268597617500541e-06, 6.255460247112568e-06, 6.241438915422391e-06, 6.226511211276383e-06, 6.2106565155324996e-06, 6.193856084429973e-06, 6.17609312869381e-06, 6.157352888056185e-06, 6.137622700890797e-06, 6.116892068672295e-06, 6.095152714989146e-06, 6.072398638857379e-06, 6.048626162101342e-06, 6.0238339705888565e-06, 5.998023149129177e-06, 5.971197209865402e-06, 5.943362114015653e-06, 5.914526286842001e-06, 5.8847006257506395e-06, 5.853898501451924e-06, 5.822135752134668e-06, 5.7894306706348805e-06, 5.7558039846049595e-06, 5.7212788297156276e-06, 5.685880715948569e-06, 5.6496374870633735e-06, 5.612579273347972e-06, 5.574738437786229e-06, 5.536149515800895e-06, 5.4968491487535515e-06, 5.456876011406088e-06, 5.4162707335700055e-06, 5.37507581619075e-06, 5.33333554213421e-06, 5.291095881960872e-06, 5.248404394990801e-06, 5.205310125978368e-06, 5.1618634977305e-06, 5.11811620001525e-06, 5.074121075119356e-06, 5.029932000423425e-06, 4.9856037683720875e-06, 4.941191964223308e-06, 4.896752841966401e-06, 4.8523431988021575e-06, 4.808020248580183e-06, 4.763841494589366e-06, 4.719864602095876e-06, 4.676147271020589e-06, 4.632747109143132e-06, 4.589721506214109e-06, 4.547127509349563e-06, 4.505021700072849e-06, 4.4634600733590005e-06, 4.422497919024834e-06, 4.382189705795715e-06, 4.3425889683652545e-06, 4.30374819774975e-06, 4.2657187352226015e-06, 4.228550670097033e-06, 4.192292741607471e-06, 4.156992245121317e-06, 4.122694942893465e-06, 4.089444979555855e-06, 4.057284802514104e-06, 4.026255087402535e-06, 3.9963946687275235e-06, 3.9677404758083995e-06, 3.940327474103147e-06, 3.914188611985553e-06, 3.889354773018635e-06, 3.865854733748636e-06, 3.843715127022965e-06, 3.8229604108152885e-06, 3.803612842520981e-06, 3.7856924586670503e-06, 3.769217059961994e-06, 3.7542022015929186e-06, 3.7406611886604264e-06, 3.7286050766251518e-06, 3.718042676624742e-06, 3.70898056550533e-06, 3.701423100398435e-06, 3.695372437661672e-06, 3.6908285559905303e-06, 3.6877892834982047e-06, 3.6862503285517056e-06, 3.686205314144644e-06, 3.687645815580386e-06, 3.690561401234203e-06, 3.6949396761586598e-06, 3.700766328293753e-06, 3.7080251770415652e-06, 3.7166982239646557e-06, 3.726765705368289e-06, 3.738206146528155e-06, 3.7509964173285537e-06, 3.7651117890798206e-06, 3.7805259922891007e-06, 3.7972112751645677e-06, 3.815138462640423e-06, 3.834277015717929e-06, 3.8545950909266296e-06, 3.876059599719653e-06, 3.898636267627166e-06, 3.922289693003299e-06, 3.94698340521336e-06, 3.972679922120383e-06, 3.9993408067424625e-06, 4.026926722965422e-06, 4.0553974902085626e-06, 4.084712136954442e-06, 4.114828953067467e-06, 4.145705540839353e-06, 4.177298864713323e-06, 4.209565299651933e-06, 4.242460678127159e-06, 4.275940335723664e-06, 4.309959155359333e-06, 4.344471610138979e-06, 4.3794318048687506e-06, 4.414793516270268e-06, 4.450510231943431e-06, 4.486535188137171e-06, 4.5228214063960735e-06, 4.559321729159451e-06, 4.595988854396516e-06, 4.63277536936818e-06, 4.669633783611574e-06, 4.7065165612480985e-06, 4.743376152719507e-06, 4.780165026059656e-06, 4.816835697810889e-06, 4.8533407636952975e-06, 4.889632929150577e-06, 4.9256650398392945e-06, 4.961390112238061e-06, 4.996761364410147e-06, 5.031732247060992e-06, 5.066256474971185e-06, 5.100288058895631e-06, 5.133781338011258e-06, 5.166691012987884e-06, 5.19897217974911e-06, 5.230580363981216e-06, 5.26147155643864e-06, 5.291602249084775e-06, 5.320929472096579e-06, 5.34941083175043e-06, 5.377004549195872e-06, 5.4036695001124245e-06, 5.4293652552331135e-06, 5.4540521217067536e-06, 5.477691185259584e-06, 5.500244353104931e-06, 5.521674397538641e-06, 5.541945000146363e-06, 5.561020796538232e-06, 5.578867421515785e-06, 5.595451554565909e-06, 5.610740965567119e-06, 5.6247045605843495e-06, 5.637312427620307e-06, 5.648535882183493e-06, 5.65834751252651e-06, 5.666721224401679e-06, 5.6736322851763365e-06, 5.679057367145258e-06, 5.682974589874616e-06, 5.6853635614091865e-06, 5.686205418173046e-06, 5.6854828633933666e-06, 5.6831802038774935e-06, 5.6792833849747315e-06, 5.673780023556718e-06, 5.66665943885375e-06, 5.65791268098852e-06, 5.6475325570542406e-06, 5.63551365459e-06, 5.621852362313586e-06, 5.606546887979505e-06, 5.589597273238925e-06, 5.571005405387344e-06, 5.550775025896205e-06, 5.528911735635076e-06, 5.505422996702588e-06, 5.480318130795817e-06, 5.453608314060395e-06, 5.42530656837587e-06, 5.395427749044038e-06, 5.363988528860968e-06, 5.331007378566766e-06, 5.296504543680575e-06, 5.260502017741648e-06, 5.223023511990746e-06, 5.184094421539272e-06, 5.1437417880866455e-06, 5.101994259259248e-06, 5.058882044656459e-06, 5.014436868701737e-06, 4.9686919204079945e-06, 4.921681800177756e-06, 4.873442463769114e-06, 4.824011163568484e-06, 4.773426387320356e-06, 4.721727794472901e-06, 4.668956150306307e-06, 4.6151532580175615e-06, 4.560361888942082e-06, 4.504625711097862e-06, 4.4479892162428285e-06, 4.390497645639761e-06, 4.332196914726352e-06, 4.27313353689029e-06, 4.213354546550484e-06, 4.152907421746281e-06, 4.091840006436425e-06, 4.0302004327081e-06, 3.968037043095127e-06, 3.905398313201443e-06, 3.842332774823001e-06, 3.7788889397569994e-06, 3.7151152244830637e-06, 3.6510598758955174e-06, 3.586770898260024e-06, 3.522295981561827e-06, 3.457682431405477e-06, 3.3929771006189366e-06, 3.328226322707071e-06, 3.2634758472913725e-06, 3.1987707776643122e-06, 3.134155510578029e-06, 3.0696736783780283e-06, 3.00536809358335e-06, 2.9412806960054663e-06, 2.877452502488681e-06, 2.8139235593453064e-06, 2.7507328975493906e-06, 2.6879184907434155e-06], \"yaxis\": \"y\"}],\n",
       "                        {\"barmode\": \"overlay\", \"hovermode\": \"closest\", \"legend\": {\"traceorder\": \"reversed\"}, \"template\": {\"data\": {\"bar\": [{\"error_x\": {\"color\": \"#2a3f5f\"}, \"error_y\": {\"color\": \"#2a3f5f\"}, \"marker\": {\"line\": {\"color\": \"#E5ECF6\", \"width\": 0.5}}, \"type\": \"bar\"}], \"barpolar\": [{\"marker\": {\"line\": {\"color\": \"#E5ECF6\", \"width\": 0.5}}, \"type\": \"barpolar\"}], \"carpet\": [{\"aaxis\": {\"endlinecolor\": \"#2a3f5f\", \"gridcolor\": \"white\", \"linecolor\": \"white\", \"minorgridcolor\": \"white\", \"startlinecolor\": \"#2a3f5f\"}, \"baxis\": {\"endlinecolor\": \"#2a3f5f\", \"gridcolor\": \"white\", \"linecolor\": \"white\", \"minorgridcolor\": \"white\", \"startlinecolor\": \"#2a3f5f\"}, \"type\": \"carpet\"}], \"choropleth\": [{\"colorbar\": {\"outlinewidth\": 0, \"ticks\": \"\"}, \"type\": \"choropleth\"}], \"contour\": [{\"colorbar\": {\"outlinewidth\": 0, \"ticks\": \"\"}, \"colorscale\": [[0.0, \"#0d0887\"], [0.1111111111111111, \"#46039f\"], [0.2222222222222222, \"#7201a8\"], [0.3333333333333333, \"#9c179e\"], [0.4444444444444444, \"#bd3786\"], [0.5555555555555556, \"#d8576b\"], [0.6666666666666666, \"#ed7953\"], [0.7777777777777778, \"#fb9f3a\"], [0.8888888888888888, \"#fdca26\"], [1.0, \"#f0f921\"]], \"type\": \"contour\"}], \"contourcarpet\": [{\"colorbar\": {\"outlinewidth\": 0, \"ticks\": \"\"}, \"type\": \"contourcarpet\"}], \"heatmap\": [{\"colorbar\": {\"outlinewidth\": 0, \"ticks\": \"\"}, \"colorscale\": [[0.0, \"#0d0887\"], [0.1111111111111111, \"#46039f\"], [0.2222222222222222, \"#7201a8\"], [0.3333333333333333, \"#9c179e\"], [0.4444444444444444, \"#bd3786\"], [0.5555555555555556, \"#d8576b\"], [0.6666666666666666, \"#ed7953\"], [0.7777777777777778, \"#fb9f3a\"], [0.8888888888888888, \"#fdca26\"], [1.0, \"#f0f921\"]], \"type\": \"heatmap\"}], \"heatmapgl\": [{\"colorbar\": {\"outlinewidth\": 0, \"ticks\": \"\"}, \"colorscale\": [[0.0, \"#0d0887\"], [0.1111111111111111, \"#46039f\"], [0.2222222222222222, \"#7201a8\"], [0.3333333333333333, \"#9c179e\"], [0.4444444444444444, \"#bd3786\"], [0.5555555555555556, \"#d8576b\"], [0.6666666666666666, \"#ed7953\"], [0.7777777777777778, \"#fb9f3a\"], [0.8888888888888888, \"#fdca26\"], [1.0, \"#f0f921\"]], \"type\": \"heatmapgl\"}], \"histogram\": [{\"marker\": {\"colorbar\": {\"outlinewidth\": 0, \"ticks\": \"\"}}, \"type\": \"histogram\"}], \"histogram2d\": [{\"colorbar\": {\"outlinewidth\": 0, \"ticks\": \"\"}, \"colorscale\": [[0.0, \"#0d0887\"], [0.1111111111111111, \"#46039f\"], [0.2222222222222222, \"#7201a8\"], [0.3333333333333333, \"#9c179e\"], [0.4444444444444444, \"#bd3786\"], [0.5555555555555556, \"#d8576b\"], [0.6666666666666666, \"#ed7953\"], [0.7777777777777778, \"#fb9f3a\"], [0.8888888888888888, \"#fdca26\"], [1.0, \"#f0f921\"]], \"type\": \"histogram2d\"}], \"histogram2dcontour\": [{\"colorbar\": {\"outlinewidth\": 0, \"ticks\": \"\"}, \"colorscale\": [[0.0, \"#0d0887\"], [0.1111111111111111, \"#46039f\"], [0.2222222222222222, \"#7201a8\"], [0.3333333333333333, \"#9c179e\"], [0.4444444444444444, \"#bd3786\"], [0.5555555555555556, \"#d8576b\"], [0.6666666666666666, \"#ed7953\"], [0.7777777777777778, \"#fb9f3a\"], [0.8888888888888888, \"#fdca26\"], [1.0, \"#f0f921\"]], \"type\": \"histogram2dcontour\"}], \"mesh3d\": [{\"colorbar\": {\"outlinewidth\": 0, \"ticks\": \"\"}, \"type\": \"mesh3d\"}], \"parcoords\": [{\"line\": {\"colorbar\": {\"outlinewidth\": 0, \"ticks\": \"\"}}, \"type\": \"parcoords\"}], \"pie\": [{\"automargin\": true, \"type\": \"pie\"}], \"scatter\": [{\"marker\": {\"colorbar\": {\"outlinewidth\": 0, \"ticks\": \"\"}}, \"type\": \"scatter\"}], \"scatter3d\": [{\"line\": {\"colorbar\": {\"outlinewidth\": 0, \"ticks\": \"\"}}, \"marker\": {\"colorbar\": {\"outlinewidth\": 0, \"ticks\": \"\"}}, \"type\": \"scatter3d\"}], \"scattercarpet\": [{\"marker\": {\"colorbar\": {\"outlinewidth\": 0, \"ticks\": \"\"}}, \"type\": \"scattercarpet\"}], \"scattergeo\": [{\"marker\": {\"colorbar\": {\"outlinewidth\": 0, \"ticks\": \"\"}}, \"type\": \"scattergeo\"}], \"scattergl\": [{\"marker\": {\"colorbar\": {\"outlinewidth\": 0, \"ticks\": \"\"}}, \"type\": \"scattergl\"}], \"scattermapbox\": [{\"marker\": {\"colorbar\": {\"outlinewidth\": 0, \"ticks\": \"\"}}, \"type\": \"scattermapbox\"}], \"scatterpolar\": [{\"marker\": {\"colorbar\": {\"outlinewidth\": 0, \"ticks\": \"\"}}, \"type\": \"scatterpolar\"}], \"scatterpolargl\": [{\"marker\": {\"colorbar\": {\"outlinewidth\": 0, \"ticks\": \"\"}}, \"type\": \"scatterpolargl\"}], \"scatterternary\": [{\"marker\": {\"colorbar\": {\"outlinewidth\": 0, \"ticks\": \"\"}}, \"type\": \"scatterternary\"}], \"surface\": [{\"colorbar\": {\"outlinewidth\": 0, \"ticks\": \"\"}, \"colorscale\": [[0.0, \"#0d0887\"], [0.1111111111111111, \"#46039f\"], [0.2222222222222222, \"#7201a8\"], [0.3333333333333333, \"#9c179e\"], [0.4444444444444444, \"#bd3786\"], [0.5555555555555556, \"#d8576b\"], [0.6666666666666666, \"#ed7953\"], [0.7777777777777778, \"#fb9f3a\"], [0.8888888888888888, \"#fdca26\"], [1.0, \"#f0f921\"]], \"type\": \"surface\"}], \"table\": [{\"cells\": {\"fill\": {\"color\": \"#EBF0F8\"}, \"line\": {\"color\": \"white\"}}, \"header\": {\"fill\": {\"color\": \"#C8D4E3\"}, \"line\": {\"color\": \"white\"}}, \"type\": \"table\"}]}, \"layout\": {\"annotationdefaults\": {\"arrowcolor\": \"#2a3f5f\", \"arrowhead\": 0, \"arrowwidth\": 1}, \"coloraxis\": {\"colorbar\": {\"outlinewidth\": 0, \"ticks\": \"\"}}, \"colorscale\": {\"diverging\": [[0, \"#8e0152\"], [0.1, \"#c51b7d\"], [0.2, \"#de77ae\"], [0.3, \"#f1b6da\"], [0.4, \"#fde0ef\"], [0.5, \"#f7f7f7\"], [0.6, \"#e6f5d0\"], [0.7, \"#b8e186\"], [0.8, \"#7fbc41\"], [0.9, \"#4d9221\"], [1, \"#276419\"]], \"sequential\": [[0.0, \"#0d0887\"], [0.1111111111111111, \"#46039f\"], [0.2222222222222222, \"#7201a8\"], [0.3333333333333333, \"#9c179e\"], [0.4444444444444444, \"#bd3786\"], [0.5555555555555556, \"#d8576b\"], [0.6666666666666666, \"#ed7953\"], [0.7777777777777778, \"#fb9f3a\"], [0.8888888888888888, \"#fdca26\"], [1.0, \"#f0f921\"]], \"sequentialminus\": [[0.0, \"#0d0887\"], [0.1111111111111111, \"#46039f\"], [0.2222222222222222, \"#7201a8\"], [0.3333333333333333, \"#9c179e\"], [0.4444444444444444, \"#bd3786\"], [0.5555555555555556, \"#d8576b\"], [0.6666666666666666, \"#ed7953\"], [0.7777777777777778, \"#fb9f3a\"], [0.8888888888888888, \"#fdca26\"], [1.0, \"#f0f921\"]]}, \"colorway\": [\"#636efa\", \"#EF553B\", \"#00cc96\", \"#ab63fa\", \"#FFA15A\", \"#19d3f3\", \"#FF6692\", \"#B6E880\", \"#FF97FF\", \"#FECB52\"], \"font\": {\"color\": \"#2a3f5f\"}, \"geo\": {\"bgcolor\": \"white\", \"lakecolor\": \"white\", \"landcolor\": \"#E5ECF6\", \"showlakes\": true, \"showland\": true, \"subunitcolor\": \"white\"}, \"hoverlabel\": {\"align\": \"left\"}, \"hovermode\": \"closest\", \"mapbox\": {\"style\": \"light\"}, \"paper_bgcolor\": \"white\", \"plot_bgcolor\": \"#E5ECF6\", \"polar\": {\"angularaxis\": {\"gridcolor\": \"white\", \"linecolor\": \"white\", \"ticks\": \"\"}, \"bgcolor\": \"#E5ECF6\", \"radialaxis\": {\"gridcolor\": \"white\", \"linecolor\": \"white\", \"ticks\": \"\"}}, \"scene\": {\"xaxis\": {\"backgroundcolor\": \"#E5ECF6\", \"gridcolor\": \"white\", \"gridwidth\": 2, \"linecolor\": \"white\", \"showbackground\": true, \"ticks\": \"\", \"zerolinecolor\": \"white\"}, \"yaxis\": {\"backgroundcolor\": \"#E5ECF6\", \"gridcolor\": \"white\", \"gridwidth\": 2, \"linecolor\": \"white\", \"showbackground\": true, \"ticks\": \"\", \"zerolinecolor\": \"white\"}, \"zaxis\": {\"backgroundcolor\": \"#E5ECF6\", \"gridcolor\": \"white\", \"gridwidth\": 2, \"linecolor\": \"white\", \"showbackground\": true, \"ticks\": \"\", \"zerolinecolor\": \"white\"}}, \"shapedefaults\": {\"line\": {\"color\": \"#2a3f5f\"}}, \"ternary\": {\"aaxis\": {\"gridcolor\": \"white\", \"linecolor\": \"white\", \"ticks\": \"\"}, \"baxis\": {\"gridcolor\": \"white\", \"linecolor\": \"white\", \"ticks\": \"\"}, \"bgcolor\": \"#E5ECF6\", \"caxis\": {\"gridcolor\": \"white\", \"linecolor\": \"white\", \"ticks\": \"\"}}, \"title\": {\"x\": 0.05}, \"xaxis\": {\"automargin\": true, \"gridcolor\": \"white\", \"linecolor\": \"white\", \"ticks\": \"\", \"title\": {\"standoff\": 15}, \"zerolinecolor\": \"white\", \"zerolinewidth\": 2}, \"yaxis\": {\"automargin\": true, \"gridcolor\": \"white\", \"linecolor\": \"white\", \"ticks\": \"\", \"title\": {\"standoff\": 15}, \"zerolinecolor\": \"white\", \"zerolinewidth\": 2}}}, \"title\": {\"text\": \"Credit Card Transactions Time Density Plot\"}, \"xaxis\": {\"anchor\": \"y2\", \"domain\": [0.0, 1.0], \"title\": {\"text\": \"Time [s]\"}, \"zeroline\": false}, \"yaxis\": {\"anchor\": \"free\", \"domain\": [0.0, 1], \"position\": 0.0}},\n",
       "                        {\"responsive\": true}\n",
       "                    ).then(function(){\n",
       "                            \n",
       "var gd = document.getElementById('cde3fb01-3616-485a-9ff0-fb35125c585c');\n",
       "var x = new MutationObserver(function (mutations, observer) {{\n",
       "        var display = window.getComputedStyle(gd).display;\n",
       "        if (!display || display === 'none') {{\n",
       "            console.log([gd, 'removed!']);\n",
       "            Plotly.purge(gd);\n",
       "            observer.disconnect();\n",
       "        }}\n",
       "}});\n",
       "\n",
       "// Listen for the removal of the full notebook cells\n",
       "var notebookContainer = gd.closest('#notebook-container');\n",
       "if (notebookContainer) {{\n",
       "    x.observe(notebookContainer, {childList: true});\n",
       "}}\n",
       "\n",
       "// Listen for the clearing of the current output cell\n",
       "var outputEl = gd.closest('.output');\n",
       "if (outputEl) {{\n",
       "    x.observe(outputEl, {childList: true});\n",
       "}}\n",
       "\n",
       "                        })\n",
       "                };\n",
       "                });\n",
       "            </script>\n",
       "        </div>"
      ]
     },
     "metadata": {},
     "output_type": "display_data"
    }
   ],
   "source": [
    "class_0 = train.loc[train['Class'] == 0][\"Time\"]\n",
    "class_1 = train.loc[train['Class'] == 1][\"Time\"]\n",
    "#plt.figure(figsize = (14,4))\n",
    "#plt.title('Credit Card Transactions Time Density Plot')\n",
    "#sns.set_color_codes(\"pastel\")\n",
    "#sns.distplot(class_0,kde=True,bins=480)\n",
    "#sns.distplot(class_1,kde=True,bins=480)\n",
    "#plt.show()\n",
    "hist_data = [class_0, class_1]\n",
    "group_labels = ['Not Fraud', 'Fraud']\n",
    "\n",
    "fig = ff.create_distplot(hist_data, group_labels, show_hist=False, show_rug=False)\n",
    "fig['layout'].update(title='Credit Card Transactions Time Density Plot', xaxis=dict(title='Time [s]'))\n",
    "iplot(fig, filename='dist_only')"
   ]
  },
  {
   "cell_type": "code",
   "execution_count": 12,
   "metadata": {},
   "outputs": [
    {
     "data": {
      "image/png": "[encoded data removed]",
      "text/plain": [
       "<Figure size 864x432 with 2 Axes>"
      ]
     },
     "metadata": {
      "needs_background": "light"
     },
     "output_type": "display_data"
    }
   ],
   "source": [
    "fig, (ax1, ax2) = plt.subplots(ncols=2, figsize=(12,6))\n",
    "s = sns.boxplot(ax = ax1, x=\"Class\", y=\"Amount\", hue=\"Class\",data=train, palette=\"PRGn\",showfliers=True)\n",
    "s = sns.boxplot(ax = ax2, x=\"Class\", y=\"Amount\", hue=\"Class\",data=train, palette=\"PRGn\",showfliers=False)\n",
    "plt.show();"
   ]
  },
  {
   "cell_type": "code",
   "execution_count": 13,
   "metadata": {},
   "outputs": [
    {
     "data": {
      "image/png": "[encoded data removed]",
      "text/plain": [
       "<Figure size 1008x1008 with 2 Axes>"
      ]
     },
     "metadata": {
      "needs_background": "light"
     },
     "output_type": "display_data"
    }
   ],
   "source": [
    "plt.figure(figsize = (14,14))\n",
    "plt.title('Credit Card Transactions features correlation plot (Pearson)')\n",
    "corr = train.corr()\n",
    "sns.heatmap(corr,xticklabels=corr.columns,yticklabels=corr.columns,linewidths=.1,cmap=\"Reds\")\n",
    "plt.show()"
   ]
  },
  {
   "cell_type": "code",
   "execution_count": 14,
   "metadata": {},
   "outputs": [
    {
     "data": {
      "image/png": "[encoded data removed]",
      "text/plain": [
       "<Figure size 402.375x360 with 1 Axes>"
      ]
     },
     "metadata": {
      "needs_background": "light"
     },
     "output_type": "display_data"
    },
    {
     "data": {
      "image/png": "[encoded data removed]",
      "text/plain": [
       "<Figure size 402.375x360 with 1 Axes>"
      ]
     },
     "metadata": {
      "needs_background": "light"
     },
     "output_type": "display_data"
    }
   ],
   "source": [
    "s = sns.lmplot(x='V20', y='Amount',data=train, hue='Class', fit_reg=True,scatter_kws={'s':2})\n",
    "s = sns.lmplot(x='V7', y='Amount',data=train, hue='Class', fit_reg=True,scatter_kws={'s':2})\n",
    "plt.show()"
   ]
  },
  {
   "cell_type": "code",
   "execution_count": 15,
   "metadata": {},
   "outputs": [
    {
     "data": {
      "text/plain": [
       "<Figure size 432x288 with 0 Axes>"
      ]
     },
     "metadata": {},
     "output_type": "display_data"
    },
    {
     "data": {
      "image/png": "[encoded data removed]",
      "text/plain": [
       "<Figure size 1152x2016 with 32 Axes>"
      ]
     },
     "metadata": {},
     "output_type": "display_data"
    }
   ],
   "source": [
    "\n",
    "\n",
    "var = train.columns.values\n",
    "\n",
    "i = 0\n",
    "t0 = train.loc[train['Class'] == 0]\n",
    "t1 = train.loc[train['Class'] == 1]\n",
    "\n",
    "sns.set_style('whitegrid')\n",
    "plt.figure()\n",
    "fig, ax = plt.subplots(8,4,figsize=(16,28))\n",
    "\n",
    "for feature in var:\n",
    "    i += 1\n",
    "    plt.subplot(8,4,i)\n",
    "    sns.kdeplot(t0[feature], bw=0.5,label=\"Class = 0\")\n",
    "    sns.kdeplot(t1[feature], bw=0.5,label=\"Class = 1\")\n",
    "    plt.xlabel(feature, fontsize=12)\n",
    "    locs, labels = plt.xticks()\n",
    "    plt.tick_params(axis='both', which='major', labelsize=12)\n",
    "plt.show();\n",
    "\n"
   ]
  },
  {
   "cell_type": "code",
   "execution_count": 16,
   "metadata": {},
   "outputs": [],
   "source": [
    "from sklearn.model_selection import train_test_split"
   ]
  },
  {
   "cell_type": "code",
   "execution_count": 17,
   "metadata": {},
   "outputs": [],
   "source": [
    "X = train.drop('Class',axis=1)\n",
    "y = train['Class']\n",
    "X_train, X_test, y_train, y_test = train_test_split(X, y, test_size=0.30,random_state=42)"
   ]
  },
  {
   "cell_type": "code",
   "execution_count": 18,
   "metadata": {},
   "outputs": [],
   "source": [
    "from sklearn.svm import SVC"
   ]
  },
  {
   "cell_type": "code",
   "execution_count": 19,
   "metadata": {},
   "outputs": [],
   "source": [
    "svc_model = SVC()"
   ]
  },
  {
   "cell_type": "code",
   "execution_count": 20,
   "metadata": {},
   "outputs": [
    {
     "data": {
      "text/plain": [
       "SVC(C=1.0, break_ties=False, cache_size=200, class_weight=None, coef0=0.0,\n",
       "    decision_function_shape='ovr', degree=3, gamma='scale', kernel='rbf',\n",
       "    max_iter=-1, probability=False, random_state=None, shrinking=True,\n",
       "    tol=0.001, verbose=False)"
      ]
     },
     "execution_count": 20,
     "metadata": {},
     "output_type": "execute_result"
    }
   ],
   "source": [
    "svc_model.fit(X_train,y_train)"
   ]
  },
  {
   "cell_type": "code",
   "execution_count": 21,
   "metadata": {},
   "outputs": [],
   "source": [
    "predictions = svc_model.predict(X_test)"
   ]
  },
  {
   "cell_type": "code",
   "execution_count": 22,
   "metadata": {},
   "outputs": [],
   "source": [
    "from sklearn.metrics import classification_report,confusion_matrix"
   ]
  },
  {
   "cell_type": "code",
   "execution_count": 23,
   "metadata": {},
   "outputs": [
    {
     "name": "stdout",
     "output_type": "stream",
     "text": [
      "[[85307     0]\n",
      " [  136     0]]\n"
     ]
    }
   ],
   "source": [
    "print(confusion_matrix(y_test,predictions))"
   ]
  },
  {
   "cell_type": "code",
   "execution_count": 24,
   "metadata": {},
   "outputs": [
    {
     "name": "stdout",
     "output_type": "stream",
     "text": [
      "              precision    recall  f1-score   support\n",
      "\n",
      "           0       1.00      1.00      1.00     85307\n",
      "           1       0.00      0.00      0.00       136\n",
      "\n",
      "    accuracy                           1.00     85443\n",
      "   macro avg       0.50      0.50      0.50     85443\n",
      "weighted avg       1.00      1.00      1.00     85443\n",
      "\n"
     ]
    },
    {
     "name": "stderr",
     "output_type": "stream",
     "text": [
      "C:\\Users\\Ayush Shah\\Anaconda3\\lib\\site-packages\\sklearn\\metrics\\_classification.py:1272: UndefinedMetricWarning:\n",
      "\n",
      "Precision and F-score are ill-defined and being set to 0.0 in labels with no predicted samples. Use `zero_division` parameter to control this behavior.\n",
      "\n"
     ]
    }
   ],
   "source": [
    "print(classification_report(y_test,predictions))"
   ]
  },
  {
   "cell_type": "code",
   "execution_count": null,
   "metadata": {},
   "outputs": [],
   "source": []
  },
  {
   "cell_type": "code",
   "execution_count": null,
   "metadata": {},
   "outputs": [],
   "source": []
  },
  {
   "cell_type": "code",
   "execution_count": null,
   "metadata": {},
   "outputs": [],
   "source": []
  }
 ],
 "metadata": {
  "kernelspec": {
   "display_name": "Python 3",
   "language": "python",
   "name": "python3"
  },
  "language_info": {
   "codemirror_mode": {
    "name": "ipython",
    "version": 3
   },
   "file_extension": ".py",
   "mimetype": "text/x-python",
   "name": "python",
   "nbconvert_exporter": "python",
   "pygments_lexer": "ipython3",
   "version": "3.8.5"
  }
 },
 "nbformat": 4,
 "nbformat_minor": 2
}
